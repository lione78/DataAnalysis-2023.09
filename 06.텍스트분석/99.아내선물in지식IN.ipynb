{
 "cells": [
  {
   "cell_type": "code",
   "execution_count": 1,
   "metadata": {},
   "outputs": [],
   "source": [
    "import time, tqdm\n",
    "from bs4 import BeautifulSoup\n",
    "from selenium import webdriver\n",
    "from selenium.webdriver.common.by import By\n",
    "from selenium.webdriver.common.keys import Keys\n",
    "from urllib.parse import quote"
   ]
  },
  {
   "cell_type": "code",
   "execution_count": 26,
   "metadata": {},
   "outputs": [],
   "source": [
    "url = f'https://kin.naver.com/search/list.naver?query={quote(\"아내 선물\")}&page=1'\n",
    "driver = webdriver.Chrome()\n",
    "driver.get(url)\n",
    "time.sleep(2)"
   ]
  },
  {
   "cell_type": "code",
   "execution_count": 27,
   "metadata": {},
   "outputs": [
    {
     "data": {
      "text/plain": [
       "10"
      ]
     },
     "execution_count": 27,
     "metadata": {},
     "output_type": "execute_result"
    }
   ],
   "source": [
    "soup = BeautifulSoup(driver.page_source, 'html.parser')\n",
    "lis = soup.select('.basic1 > li')\n",
    "len(lis)"
   ]
  },
  {
   "cell_type": "code",
   "execution_count": 28,
   "metadata": {},
   "outputs": [],
   "source": [
    "li = lis[1]"
   ]
  },
  {
   "cell_type": "code",
   "execution_count": 29,
   "metadata": {},
   "outputs": [
    {
     "data": {
      "text/plain": [
       "'https://kin.naver.com/qna/detail.naver?d1id=5&dirId=50503&docId=431456629&qb=7JWE64K0IOyEoOusvA==&enc=utf8&section=kin&rank=2&search_sort=0&spq=0'"
      ]
     },
     "execution_count": 29,
     "metadata": {},
     "output_type": "execute_result"
    }
   ],
   "source": [
    "sub_url = li.select_one('a._searchListTitleAnchor')['href']\n",
    "sub_url"
   ]
  },
  {
   "cell_type": "code",
   "execution_count": 30,
   "metadata": {},
   "outputs": [],
   "source": [
    "driver.get(sub_url)"
   ]
  },
  {
   "cell_type": "code",
   "execution_count": 31,
   "metadata": {},
   "outputs": [
    {
     "data": {
      "text/plain": [
       "'9'"
      ]
     },
     "execution_count": 31,
     "metadata": {},
     "output_type": "execute_result"
    }
   ],
   "source": [
    "answer_num = driver.find_element(By.CSS_SELECTOR, '._answerCount.num').text\n",
    "answer_num"
   ]
  },
  {
   "cell_type": "code",
   "execution_count": 32,
   "metadata": {},
   "outputs": [],
   "source": [
    "answer_num = driver.find_element(By.CSS_SELECTOR, '._answerCount.num').text\n",
    "count_num = (int(answer_num) - 1) // 5\n",
    "for _ in range(count_num):\n",
    "    driver.find_element(By.ID, 'nextPageButton').click()\n",
    "    time.sleep(2)"
   ]
  },
  {
   "cell_type": "code",
   "execution_count": 33,
   "metadata": {},
   "outputs": [
    {
     "data": {
      "text/plain": [
       "8"
      ]
     },
     "execution_count": 33,
     "metadata": {},
     "output_type": "execute_result"
    }
   ],
   "source": [
    "sub_soup = BeautifulSoup(driver.page_source, 'html.parser')\n",
    "divs = sub_soup.select('._endContentsText.c-heading-answer__content-user')\n",
    "len(divs)"
   ]
  },
  {
   "cell_type": "code",
   "execution_count": 35,
   "metadata": {},
   "outputs": [],
   "source": [
    "div = divs[0]"
   ]
  },
  {
   "cell_type": "code",
   "execution_count": 36,
   "metadata": {},
   "outputs": [
    {
     "data": {
      "text/plain": [
       "<div class=\"_endContentsText c-heading-answer__content-user\"><div class=\"se-viewer se-theme-default\" lang=\"ko-KR\"> <!-- SE_DOC_HEADER_START --> <!--@CONTENTS_HEADER--> <!-- SE_DOC_HEADER_END --> <div class=\"se-main-container\"> <div class=\"se-component se-text se-l-default\" id=\"SE-cf022e37-96c2-40d9-a602-043053019f53\"> <div class=\"se-component-content\"> <div class=\"se-section se-section-text se-l-default\"> <div class=\"se-module se-module-text\"> <!-- SE-TEXT { --><p class=\"se-text-paragraph se-text-paragraph-align-\" id=\"SE-e7123de0-d890-4da0-9b1d-785f9e62b161\" style=\"\"><span class=\"se-fs- se-ff-\" id=\"SE-038f063f-e149-444c-9b23-ca8d4f69e0e0\" style=\"\">기념일 아내 선물 부담스럽지 않고 실용 적인 제품으로</span></p><!-- } SE-TEXT --><!-- SE-TEXT { --><p class=\"se-text-paragraph se-text-paragraph-align-\" id=\"SE-396b2459-f921-4c4b-b860-e7780bf93109\" style=\"\"><span class=\"se-fs- se-ff-\" id=\"SE-120c7a87-e020-4f31-b1db-ecbbe0a9bb55\" style=\"\">​</span></p><!-- } SE-TEXT --><!-- SE-TEXT { --><p class=\"se-text-paragraph se-text-paragraph-align-\" id=\"SE-d145d0b0-d515-4326-8538-47593852aace\" style=\"\"><span class=\"se-fs- se-ff-\" id=\"SE-26554a8b-bee7-4505-85db-769a14d69d9d\" style=\"\">모식스 샴푸 추천드립니다.</span></p><!-- } SE-TEXT --><!-- SE-TEXT { --><p class=\"se-text-paragraph se-text-paragraph-align-\" id=\"SE-12a8dfa5-98fd-406c-8b0a-d0506bf89c36\" style=\"\"><span class=\"se-fs- se-ff-\" id=\"SE-b02a0ab8-5d79-4a90-9fde-d5cc5f6b8638\" style=\"\">요즘 남녀노소 머리빠짐이 급속도로 진행되어</span></p><!-- } SE-TEXT --><!-- SE-TEXT { --><p class=\"se-text-paragraph se-text-paragraph-align-\" id=\"SE-b255cc99-9d69-4049-8693-302552a4ac97\" style=\"\"><span class=\"se-fs- se-ff-\" id=\"SE-103d5310-0762-49f5-b8c5-31440a7345f7\" style=\"\">걱정 고민이 많으시기도 하고</span></p><!-- } SE-TEXT --><!-- SE-TEXT { --><p class=\"se-text-paragraph se-text-paragraph-align-\" id=\"SE-f3bae9c7-5adf-4ee2-89e8-252c6ca9593f\" style=\"\"><span class=\"se-fs- se-ff-\" id=\"SE-17e4108f-2187-4eb0-8f6f-abb90a5121e7\" style=\"\">​</span></p><!-- } SE-TEXT --><!-- SE-TEXT { --><p class=\"se-text-paragraph se-text-paragraph-align-\" id=\"SE-e3224ddc-5d0b-4737-a909-26ae3a0a2caa\" style=\"\"><span class=\"se-fs- se-ff-\" id=\"SE-27df5546-476a-4215-bdbd-6d31ca102aa5\" style=\"\">아내분께서도 실용적으로 잘 사용 하실 수 있을 것 입니다.</span></p><!-- } SE-TEXT --><!-- SE-TEXT { --><p class=\"se-text-paragraph se-text-paragraph-align-\" id=\"SE-8799a86b-114b-420f-b246-6963b54ef4b6\" style=\"\"><span class=\"se-fs- se-ff-\" id=\"SE-f29e01c6-fdbf-4d0c-b7d0-f04de893b62f\" style=\"\">​</span></p><!-- } SE-TEXT --><!-- SE-TEXT { --><p class=\"se-text-paragraph se-text-paragraph-align-\" id=\"SE-841b85a6-c118-4149-9771-420883a3da50\" style=\"\"><span class=\"se-fs- se-ff-\" id=\"SE-8c433bc5-6fee-40b6-8a0c-e2092dc42c9e\" style=\"\">이미 전문가들 사이에서 입증 된 제품으로</span></p><!-- } SE-TEXT --><!-- SE-TEXT { --><p class=\"se-text-paragraph se-text-paragraph-align-\" id=\"SE-af055214-91a1-4c42-bee3-92ce03ed86cf\" style=\"\"><span class=\"se-fs- se-ff-\" id=\"SE-e816c394-0f55-4c5b-a74d-34f3c9217413\" style=\"\">두피케어에도 탁월할 제품이네요~</span></p><!-- } SE-TEXT --><!-- SE-TEXT { --><p class=\"se-text-paragraph se-text-paragraph-align-\" id=\"SE-530950dc-30ca-4737-8c62-21cc77b49c7a\" style=\"\"><span class=\"se-fs- se-ff-\" id=\"SE-057376bf-b660-4c6a-9068-5e1cf0184ca2\" style=\"\">​</span></p><!-- } SE-TEXT --><!-- SE-TEXT { --><p class=\"se-text-paragraph se-text-paragraph-align-\" id=\"SE-d6ae0e97-c7d1-470f-bb5d-46f80bffbbc9\" style=\"\"><span class=\"se-fs- se-ff-\" id=\"SE-89ec8e44-f448-4602-ada4-8ab421614e0b\" style=\"\">아무쪼록 부담되지 않고 실용적인 선물 잘 고르시기 바랍니다.</span></p><!-- } SE-TEXT --><!-- SE-TEXT { --><p class=\"se-text-paragraph se-text-paragraph-align-\" id=\"SE-3d60db1d-55e5-4db6-88e6-7ea0748be678\" style=\"\"><span class=\"se-fs- se-ff-\" id=\"SE-633a9cbd-fdac-499c-90ac-d56ba4502699\" style=\"\">​</span></p><!-- } SE-TEXT --><!-- SE-TEXT { --><p class=\"se-text-paragraph se-text-paragraph-align-\" id=\"SE-6100cc6a-b195-412b-8f85-16e744e7a8f2\" style=\"\"><span class=\"se-fs- se-ff-\" id=\"SE-c8dae27d-8438-4add-9a04-4dce1131e260\" style=\"\">감사합니다.</span></p><!-- } SE-TEXT --> </div> </div> </div> </div> </div></div></div>"
      ]
     },
     "execution_count": 36,
     "metadata": {},
     "output_type": "execute_result"
    }
   ],
   "source": [
    "div"
   ]
  },
  {
   "cell_type": "code",
   "execution_count": 37,
   "metadata": {},
   "outputs": [
    {
     "data": {
      "text/plain": [
       "14"
      ]
     },
     "execution_count": 37,
     "metadata": {},
     "output_type": "execute_result"
    }
   ],
   "source": [
    "ps = div.select('.se-text-paragraph')\n",
    "len(ps)"
   ]
  },
  {
   "cell_type": "code",
   "execution_count": 39,
   "metadata": {},
   "outputs": [
    {
     "data": {
      "text/plain": [
       "'기념일 아내 선물 부담스럽지 않고 실용 적인 제품으로'"
      ]
     },
     "execution_count": 39,
     "metadata": {},
     "output_type": "execute_result"
    }
   ],
   "source": [
    "p = ps[0]\n",
    "p.get_text().strip()"
   ]
  },
  {
   "cell_type": "code",
   "execution_count": 45,
   "metadata": {},
   "outputs": [
    {
     "data": {
      "text/plain": [
       "'기념일 아내 선물 부담스럽지 않고 실용 적인 제품으로\\n모식스 샴푸 추천드립니다.\\n요즘 남녀노소 머리빠짐이 급속도로 진행되어\\n걱정 고민이 많으시기도 하고\\n아내분께서도 실용적으로 잘 사용 하실 수 있을 것 입니다.\\n이미 전문가들 사이에서 입증 된 제품으로\\n두피케어에도 탁월할 제품이네요~\\n아무쪼록 부담되지 않고 실용적인 선물 잘 고르시기 바랍니다.\\n감사합니다.\\n'"
      ]
     },
     "execution_count": 45,
     "metadata": {},
     "output_type": "execute_result"
    }
   ],
   "source": [
    "answer = ''\n",
    "for p in ps:\n",
    "    text = p.get_text().strip()\n",
    "    if text == '\\u200b' or text == '':\n",
    "        continue\n",
    "    answer += text + '\\n'\n",
    "answer"
   ]
  },
  {
   "cell_type": "code",
   "execution_count": 47,
   "metadata": {},
   "outputs": [],
   "source": [
    "from tqdm import tqdm"
   ]
  },
  {
   "cell_type": "code",
   "execution_count": 49,
   "metadata": {},
   "outputs": [
    {
     "name": "stderr",
     "output_type": "stream",
     "text": [
      "  0%|          | 0/10 [00:00<?, ?it/s]"
     ]
    },
    {
     "name": "stdout",
     "output_type": "stream",
     "text": [
      "0 1 2 1 1 1 1 1 1 0 "
     ]
    },
    {
     "name": "stderr",
     "output_type": "stream",
     "text": [
      " 10%|█         | 1/10 [01:21<12:10, 81.20s/it]"
     ]
    },
    {
     "name": "stdout",
     "output_type": "stream",
     "text": [
      "0 1 1 1 2 0 1 0 0 1 "
     ]
    },
    {
     "name": "stderr",
     "output_type": "stream",
     "text": [
      " 20%|██        | 2/10 [02:38<10:28, 78.62s/it]"
     ]
    },
    {
     "name": "stdout",
     "output_type": "stream",
     "text": [
      "0 1 0 1 1 1 0 0 0 1 "
     ]
    },
    {
     "name": "stderr",
     "output_type": "stream",
     "text": [
      " 30%|███       | 3/10 [03:50<08:50, 75.76s/it]"
     ]
    },
    {
     "name": "stdout",
     "output_type": "stream",
     "text": [
      "1 0 1 0 3 1 1 0 2 0 "
     ]
    },
    {
     "name": "stderr",
     "output_type": "stream",
     "text": [
      " 40%|████      | 4/10 [05:10<07:44, 77.49s/it]"
     ]
    },
    {
     "name": "stdout",
     "output_type": "stream",
     "text": [
      "2 0 1 1 1 1 0 0 0 2 "
     ]
    },
    {
     "name": "stderr",
     "output_type": "stream",
     "text": [
      " 50%|█████     | 5/10 [06:29<06:29, 77.91s/it]"
     ]
    },
    {
     "name": "stdout",
     "output_type": "stream",
     "text": [
      "0 1 1 0 2 0 0 1 0 2 "
     ]
    },
    {
     "name": "stderr",
     "output_type": "stream",
     "text": [
      " 60%|██████    | 6/10 [07:45<05:09, 77.28s/it]"
     ]
    },
    {
     "name": "stdout",
     "output_type": "stream",
     "text": [
      "3 1 2 0 2 0 0 0 0 0 "
     ]
    },
    {
     "name": "stderr",
     "output_type": "stream",
     "text": [
      " 70%|███████   | 7/10 [09:04<03:53, 77.90s/it]"
     ]
    },
    {
     "name": "stdout",
     "output_type": "stream",
     "text": [
      "0 0 0 0 0 1 0 0 0 0 "
     ]
    },
    {
     "name": "stderr",
     "output_type": "stream",
     "text": [
      " 80%|████████  | 8/10 [10:09<02:27, 73.71s/it]"
     ]
    },
    {
     "name": "stdout",
     "output_type": "stream",
     "text": [
      "0 2 0 0 0 0 0 1 0 1 "
     ]
    },
    {
     "name": "stderr",
     "output_type": "stream",
     "text": [
      " 90%|█████████ | 9/10 [11:18<01:12, 72.46s/it]"
     ]
    },
    {
     "name": "stdout",
     "output_type": "stream",
     "text": [
      "1 0 2 1 1 1 0 0 0 1 "
     ]
    },
    {
     "name": "stderr",
     "output_type": "stream",
     "text": [
      "100%|██████████| 10/10 [12:36<00:00, 75.70s/it]\n"
     ]
    }
   ],
   "source": [
    "answer_list = []\n",
    "driver = webdriver.Chrome()\n",
    "for page in tqdm(range(1, 11)):\n",
    "    url = f'https://kin.naver.com/search/list.naver?query={quote(\"아내 선물\")}&page={page}'\n",
    "    driver.get(url)\n",
    "    time.sleep(2)\n",
    "\n",
    "    soup = BeautifulSoup(driver.page_source, 'html.parser')\n",
    "    lis = soup.select('.basic1 > li')\n",
    "    for li in lis:\n",
    "        sub_url = li.select_one('a._searchListTitleAnchor')['href']\n",
    "        driver.get(sub_url)\n",
    "        time.sleep(2)\n",
    "\n",
    "        answer_num = driver.find_element(By.CSS_SELECTOR, '._answerCount.num').text\n",
    "        count_num = (int(answer_num) - 1) // 5\n",
    "        print(count_num, end=' ')\n",
    "        for _ in range(count_num):\n",
    "            driver.find_element(By.ID, 'nextPageButton').click()\n",
    "            time.sleep(2)\n",
    "        sub_soup = BeautifulSoup(driver.page_source, 'html.parser')\n",
    "        divs = sub_soup.select('._endContentsText.c-heading-answer__content-user')\n",
    "        for div in divs:\n",
    "            ps = div.select('.se-text-paragraph')\n",
    "            answer = ''\n",
    "            for p in ps:\n",
    "                text = p.get_text().strip()\n",
    "                if text == '\\u200b' or text == '':\n",
    "                    continue\n",
    "                answer += text + '\\n'\n",
    "            answer_list.append(answer)\n",
    "        driver.back()\n",
    "        time.sleep(3)"
   ]
  },
  {
   "cell_type": "code",
   "execution_count": 50,
   "metadata": {},
   "outputs": [
    {
     "data": {
      "text/plain": [
       "513"
      ]
     },
     "execution_count": 50,
     "metadata": {},
     "output_type": "execute_result"
    }
   ],
   "source": [
    "len(answer_list)"
   ]
  },
  {
   "cell_type": "code",
   "execution_count": 52,
   "metadata": {},
   "outputs": [],
   "source": [
    "with open('data/아내선물.txt', 'w', encoding='UTF-8') as file:\n",
    "    for answer in answer_list:\n",
    "        file.write(answer + '\\n')"
   ]
  },
  {
   "cell_type": "code",
   "execution_count": null,
   "metadata": {},
   "outputs": [],
   "source": []
  }
 ],
 "metadata": {
  "kernelspec": {
   "display_name": "base",
   "language": "python",
   "name": "python3"
  },
  "language_info": {
   "codemirror_mode": {
    "name": "ipython",
    "version": 3
   },
   "file_extension": ".py",
   "mimetype": "text/x-python",
   "name": "python",
   "nbconvert_exporter": "python",
   "pygments_lexer": "ipython3",
   "version": "3.11.4"
  },
  "orig_nbformat": 4
 },
 "nbformat": 4,
 "nbformat_minor": 2
}
