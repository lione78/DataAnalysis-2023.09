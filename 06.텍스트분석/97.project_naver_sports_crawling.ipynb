{
 "cells": [
  {
   "cell_type": "code",
   "execution_count": 5,
   "metadata": {},
   "outputs": [],
   "source": [
    "import time\n",
    "from bs4 import BeautifulSoup\n",
    "from selenium import webdriver\n",
    "from selenium.webdriver.common.by import By\n",
    "from tqdm import tqdm"
   ]
  },
  {
   "cell_type": "code",
   "execution_count": 9,
   "metadata": {},
   "outputs": [],
   "source": [
    "base_url = 'https://sports.news.naver.com'"
   ]
  },
  {
   "cell_type": "code",
   "execution_count": 10,
   "metadata": {},
   "outputs": [],
   "source": [
    "url = 'https://sports.news.naver.com/kbaseball/news/index?page=1&isphoto=N'\n",
    "driver = webdriver.Chrome()\n",
    "driver.get(url)"
   ]
  },
  {
   "cell_type": "code",
   "execution_count": 11,
   "metadata": {},
   "outputs": [
    {
     "data": {
      "text/plain": [
       "20"
      ]
     },
     "execution_count": 11,
     "metadata": {},
     "output_type": "execute_result"
    }
   ],
   "source": [
    "soup = BeautifulSoup(driver.page_source, 'html.parser')\n",
    "lis = soup.select('.news_list > ul > li')\n",
    "len(lis)"
   ]
  },
  {
   "cell_type": "code",
   "execution_count": 29,
   "metadata": {},
   "outputs": [
    {
     "data": {
      "text/plain": [
       "'4'"
      ]
     },
     "execution_count": 29,
     "metadata": {},
     "output_type": "execute_result"
    }
   ],
   "source": [
    "pages = soup.select('#_pageList > a')[-1].get_text().strip()\n",
    "pages"
   ]
  },
  {
   "cell_type": "code",
   "execution_count": 15,
   "metadata": {},
   "outputs": [
    {
     "data": {
      "text/plain": [
       "'https://sports.news.naver.com/kbaseball/news/read?oid=081&aid=0003395091'"
      ]
     },
     "execution_count": 15,
     "metadata": {},
     "output_type": "execute_result"
    }
   ],
   "source": [
    "li = lis[0]\n",
    "sub_url = li.select_one('.title')['href']\n",
    "sub_url = base_url + sub_url\n",
    "sub_url"
   ]
  },
  {
   "cell_type": "code",
   "execution_count": 16,
   "metadata": {},
   "outputs": [],
   "source": [
    "driver.get(sub_url)"
   ]
  },
  {
   "cell_type": "code",
   "execution_count": 20,
   "metadata": {},
   "outputs": [],
   "source": [
    "sub_soup = BeautifulSoup(driver.page_source, 'html.parser')\n",
    "head_line = sub_soup.select_one('.news_headline > .title').get_text().strip()\n",
    "content = sub_soup.select_one('#newsEndContents').get_text().strip()"
   ]
  },
  {
   "cell_type": "code",
   "execution_count": 18,
   "metadata": {},
   "outputs": [
    {
     "data": {
      "text/plain": [
       "'김윤식·이지강 잘해주지만…‘LG 통합 우승’ 핵심은 결국 플럿코'"
      ]
     },
     "execution_count": 18,
     "metadata": {},
     "output_type": "execute_result"
    }
   ],
   "source": [
    "head_line"
   ]
  },
  {
   "cell_type": "code",
   "execution_count": 22,
   "metadata": {},
   "outputs": [],
   "source": [
    "import re"
   ]
  },
  {
   "cell_type": "code",
   "execution_count": 23,
   "metadata": {},
   "outputs": [
    {
     "data": {
      "text/plain": [
       "'염경엽 LG 트윈스 감독이 지난 7일 수원 케이티위즈파크에서 kt wiz와의 경기에서 홈런을 친 박동원과 기뻐하고 있다. 뉴스1포스트 시즌에서 에이스급 선발 투수의 비중은 절대적이다. 정규리그에서 독보적인 선두를 달리고 있는 LG 트윈스가 목표인 통합 우승을 달성하기 위해 아담 플럿코의 복귀 시점을 강조하는 이유다.5연승을 내달리며 2위 kt wiz와 6경기 반 차로 격차를 벌린 염경엽 LG 감독이 20일 “10월 초에는 무조건 복귀해야 한다”며 플럿코의 복귀를 언급했다. 이날 수원 케이티위즈파크에서 열릴 예정이었던 1, 2위 간 맞대결은 우천으로 불발됐다.플럿코는 지난달 26일 NC 다이노스전에서 선발 출전해 4이닝 투구를 마치고 교체됐는데 검진 결과 왼쪽 골반 타박상 진단을 받았다. 염경엽 감독은 후반기를 시작하며 “올스타 브레이크와 코로나, 우천 경기 취소로 5주를 쉬었기 때문에 남은 시즌을 모두 뛰어도 문제없다”고 말했지만, 예기치 못한 부상으로 계획이 틀어졌다.이에 대체 선발로 나선 김윤식과 이지강이 공백을 완벽하게 메우고 있다. 김윤식은 지난 15일 한화 이글스와의 경기에서 5이닝 4피안타 3실점으로 시즌 5승째를 거뒀다. 지난달 29일 1군에 복귀해 9월 3경기 2승 평균자책점 2.87로 맹활약을 펼치고 있다.이지강도 지난 19일 KIA 타이거즈의 대투수 양현종을 상대로 5이닝 무실점, 데뷔 첫 선발승을 올렸다. 시즌 초 이민호, 강효종 등이 기대에 부응하지 못하자 5월 2일 NC와의 경기부터 선발로 나섰지만, 5경기 3패 평균자책점 4.82로 부진했다. 이후 1군과 2군을 오가다 최원태의 빈자리를 채우기 위해 긴급 투입된 경기에서 팀 5연승을 이끈 것이다.LG 트윈스의 김윤식이 지난 15일 대전 한화생명이글스파크에서 열린 한화이글스전에서 공을 던지고 있다. 뉴스1그러나 포스트 시즌에서 상대 우위를 가져가기 위해선 강력한 구위를 앞세운 에이스의 활약이 필수적이다. 지난해 플레이오프를 보면 안우진과 에릭 요키시, 타일러 애플러 등 탄탄한 선발진을 구성한 키움 히어로즈가 정규리그 2위 LG를 꺾고 한국 시리즈에 진출했다.반면 LG는 플럿코의 부상이 뼈아팠다. 지난해 28경기 15승 5패 평균자책점 2.39로 압도적인 모습을 보인 플럿코는 9월 25일 SSG 랜더스전에서 담 증세로 교체된 뒤 정규 시즌에 나서지 못했다. 이어 10월 25일 키움과의 플레이오프 2차전에 출전했지만 1과 3분의2이닝 8피안타 6실점 4자책점으로 무너졌고, LG는 내리 3연패를 당했다.이에 염 감독도 단호한 메시지를 전했다. 그는 플럿코에 대해 “두세 번 정도 등판하고 나서 포스트 시즌을 치러야 한다. 한 번만 던진다면 기회를 주지 않을 것”이라고 단언했다.기사제공 서울신문서진솔 기자Copyright ⓒ 서울신문. All rights reserved. 무단 전재 및 재배포 금지.기사 섹션 분류 가이드기사 섹션 분류 안내스포츠 기사 섹션(종목) 정보는 언론사 분류와 기술 기반의 자동 분류 시스템을 따르고 있습니다. 오분류에 대한 건은 네이버스포츠로 제보 부탁드립니다.오분류 제보하기가이드 닫기매주 놀라운 소식, 서울신문 뉴스레터 구독하기서울신문 사이트에서 더 많은 기사 확인하기'"
      ]
     },
     "execution_count": 23,
     "metadata": {},
     "output_type": "execute_result"
    }
   ],
   "source": [
    "content = content.replace('\\n', '').replace('\\t', '')\n",
    "content"
   ]
  },
  {
   "cell_type": "code",
   "execution_count": 42,
   "metadata": {},
   "outputs": [],
   "source": [
    "data = []\n",
    "base_url = 'https://sports.news.naver.com'\n",
    "url = 'https://sports.news.naver.com/kbaseball/news/index?page=1&isphoto=N'\n",
    "driver = webdriver.Chrome()\n",
    "driver.get(url)\n",
    "ori_soup = BeautifulSoup(driver.page_source, 'html.parser')\n",
    "pages = int(soup.select('#_pageList > a')[-1].get_text().strip())\n",
    "for page in range(pages):\n",
    "    url = f'https://sports.news.naver.com/kbaseball/news/index?page={page+1}&isphoto=N'\n",
    "    driver.get(url)\n",
    "    time.sleep(2)\n",
    "    \n",
    "    soup = BeautifulSoup(driver.page_source, 'html.parser')\n",
    "    lis = soup.select('.news_list > ul > li')\n",
    "    for li in lis:\n",
    "        sub_url = li.select_one('.title')['href']\n",
    "        sub_url = base_url + sub_url\n",
    "        driver.get(sub_url)\n",
    "        time.sleep(2)\n",
    "\n",
    "        sub_soup = BeautifulSoup(driver.page_source, 'html.parser')\n",
    "        head_line = sub_soup.select_one('.news_headline > .title').get_text().strip()\n",
    "        content = sub_soup.select_one('#newsEndContents').get_text().strip()\n",
    "        content = content.replace('\\n', '').replace('\\t', '')\n",
    "        data.append(head_line)\n",
    "        data.append(content)"
   ]
  },
  {
   "cell_type": "code",
   "execution_count": 43,
   "metadata": {},
   "outputs": [
    {
     "data": {
      "text/plain": [
       "120"
      ]
     },
     "execution_count": 43,
     "metadata": {},
     "output_type": "execute_result"
    }
   ],
   "source": [
    "len(data)"
   ]
  },
  {
   "cell_type": "code",
   "execution_count": 44,
   "metadata": {},
   "outputs": [
    {
     "data": {
      "text/plain": [
       "'부상으로 사실상 올 시즌을 접은 KIA 주포 나성범. 연합뉴스프로야구 KIA가 가을 야구 경쟁에서 대형 악재를 맞았다. 주포 나성범(34)의 이탈로 힘겨운 싸움을 펼치게 됐다.KIA는 20일 \"나성범이 이날 두 군데 병원에서 교차 진료한 결과 오른쪽 허벅지 뒤 근육(햄스트링)이 손상됐다는 진단이 나왔다\"고 밝혔다. 이어 \"재활 기간은 10주에서 12주로 예상한다\"고 덧붙였다.사실상 시즌 아웃이다. 나성범은 19일 LG와 광주 홈 경기에서 8회말 2루에서 3루로 달리다 허벅지 부상을 입었다. 다음날 정밀 검진에서 결국 최소 10주 재활 진단을 받은 것이다.나성범은 올 시즌 직전 종아리 근육 부상으로 6월말 합류했다. 그러나 58경기에서 타율 3할6푼5리(222타수 81안타) 18홈런 57타점에 OPS(출루율+장타율) 1.098로 맹활약했다.한때 9위까지 처졌던 KIA도 나성범과 김도영 등 부상자들의 귀환 속에 순위를 올렸다. 이달 중순까지 4위를 달리며 포스트 시즌(PS)에 대한 희망을 키웠다.하지만 KIA는 최근 6연패 수렁에 빠지면서 6위까지 떨어졌다. 여기에 나성범의 시즌 아웃까지 악재가 겹쳤다.KIA는 20일까지 60승 58패 2무로 5위 SSG(63승 59패 2무)에 1경기 차로 뒤져 있다. KIA는 그나마 2경기 차 5위 두산(64승 58패 1무) 등 경쟁 팀들보다 잔여 경기가 많아 만회할 여지가 있다. 그러나 나성범이 빠진 타선으로 순위를 뒤집을 수 있을지는 미지수다.\\xa0기사제공 노컷뉴스CBS노컷뉴스 임종률 기자 airjr@cbs.co.kr임종률 기자구독임종률 기자의 구독을 취소하시겠습니까?구독에서 해당 기자의 기사가 제외됩니다.예아니오닫기구독자2,578응원수502\\'만찢남 시즌2, 조기 종료\\' 日 오타니, 결국 수술대로\\'챔피언과 9위, 시즌 첫 크로스\\' SSG, 충격의 6위…두산, 6연승·4위 점프Copyright ⓒ 노컷뉴스. All rights reserved. 무단 전재 및 재배포 금지.기사 섹션 분류 가이드기사 섹션 분류 안내스포츠 기사 섹션(종목) 정보는 언론사 분류와 기술 기반의 자동 분류 시스템을 따르고 있습니다. 오분류에 대한 건은 네이버스포츠로 제보 부탁드립니다.오분류 제보하기가이드 닫기거짓은 칼컷, 진실은 노컷으로!네이버에서도 진실은 노컷으로!'"
      ]
     },
     "execution_count": 44,
     "metadata": {},
     "output_type": "execute_result"
    }
   ],
   "source": [
    "data[-1]"
   ]
  },
  {
   "cell_type": "code",
   "execution_count": 51,
   "metadata": {},
   "outputs": [
    {
     "name": "stderr",
     "output_type": "stream",
     "text": [
      "  0%|          | 0/8 [00:00<?, ?it/s]"
     ]
    },
    {
     "name": "stdout",
     "output_type": "stream",
     "text": [
      "7 "
     ]
    },
    {
     "name": "stderr",
     "output_type": "stream",
     "text": [
      " 12%|█▎        | 1/8 [05:54<41:24, 354.97s/it]"
     ]
    },
    {
     "name": "stdout",
     "output_type": "stream",
     "text": [
      "5 "
     ]
    },
    {
     "name": "stderr",
     "output_type": "stream",
     "text": [
      " 25%|██▌       | 2/8 [09:51<28:33, 285.58s/it]"
     ]
    },
    {
     "name": "stdout",
     "output_type": "stream",
     "text": [
      "7 "
     ]
    },
    {
     "name": "stderr",
     "output_type": "stream",
     "text": [
      " 38%|███▊      | 3/8 [16:00<26:57, 323.42s/it]"
     ]
    },
    {
     "name": "stdout",
     "output_type": "stream",
     "text": [
      "14 "
     ]
    },
    {
     "name": "stderr",
     "output_type": "stream",
     "text": [
      " 50%|█████     | 4/8 [28:38<33:00, 495.01s/it]"
     ]
    },
    {
     "name": "stdout",
     "output_type": "stream",
     "text": [
      "6 "
     ]
    },
    {
     "name": "stderr",
     "output_type": "stream",
     "text": [
      " 62%|██████▎   | 5/8 [33:26<21:01, 420.34s/it]"
     ]
    },
    {
     "name": "stdout",
     "output_type": "stream",
     "text": [
      "5 "
     ]
    },
    {
     "name": "stderr",
     "output_type": "stream",
     "text": [
      " 75%|███████▌  | 6/8 [37:15<11:50, 355.41s/it]"
     ]
    },
    {
     "name": "stdout",
     "output_type": "stream",
     "text": [
      "3 "
     ]
    },
    {
     "name": "stderr",
     "output_type": "stream",
     "text": [
      " 88%|████████▊ | 7/8 [39:34<05:39, 339.22s/it]"
     ]
    },
    {
     "name": "stdout",
     "output_type": "stream",
     "text": [
      "이전 "
     ]
    },
    {
     "name": "stderr",
     "output_type": "stream",
     "text": [
      "\n"
     ]
    },
    {
     "ename": "ValueError",
     "evalue": "invalid literal for int() with base 10: '이전'",
     "output_type": "error",
     "traceback": [
      "\u001b[1;31m---------------------------------------------------------------------------\u001b[0m",
      "\u001b[1;31mValueError\u001b[0m                                Traceback (most recent call last)",
      "\u001b[1;32md:\\WorkSpace\\02.DataAnalysis\\06.텍스트분석\\97.project_naver_sports_crawling.ipynb 셀 15\u001b[0m line \u001b[0;36m2\n\u001b[0;32m     <a href='vscode-notebook-cell:/d%3A/WorkSpace/02.DataAnalysis/06.%ED%85%8D%EC%8A%A4%ED%8A%B8%EB%B6%84%EC%84%9D/97.project_naver_sports_crawling.ipynb#X21sZmlsZQ%3D%3D?line=18'>19</a>\u001b[0m     pages_1 \u001b[39m=\u001b[39m pages\n\u001b[0;32m     <a href='vscode-notebook-cell:/d%3A/WorkSpace/02.DataAnalysis/06.%ED%85%8D%EC%8A%A4%ED%8A%B8%EB%B6%84%EC%84%9D/97.project_naver_sports_crawling.ipynb#X21sZmlsZQ%3D%3D?line=19'>20</a>\u001b[0m \u001b[39mprint\u001b[39m(pages_1, end\u001b[39m=\u001b[39m \u001b[39m'\u001b[39m\u001b[39m \u001b[39m\u001b[39m'\u001b[39m)\n\u001b[1;32m---> <a href='vscode-notebook-cell:/d%3A/WorkSpace/02.DataAnalysis/06.%ED%85%8D%EC%8A%A4%ED%8A%B8%EB%B6%84%EC%84%9D/97.project_naver_sports_crawling.ipynb#X21sZmlsZQ%3D%3D?line=20'>21</a>\u001b[0m \u001b[39mfor\u001b[39;00m page \u001b[39min\u001b[39;00m \u001b[39mrange\u001b[39m(\u001b[39mint\u001b[39m(pages_1)):\n\u001b[0;32m     <a href='vscode-notebook-cell:/d%3A/WorkSpace/02.DataAnalysis/06.%ED%85%8D%EC%8A%A4%ED%8A%B8%EB%B6%84%EC%84%9D/97.project_naver_sports_crawling.ipynb#X21sZmlsZQ%3D%3D?line=21'>22</a>\u001b[0m     url \u001b[39m=\u001b[39m \u001b[39mf\u001b[39m\u001b[39m'\u001b[39m\u001b[39m{\u001b[39;00mbase_url\u001b[39m}\u001b[39;00m\u001b[39m/\u001b[39m\u001b[39m{\u001b[39;00mcat\u001b[39m}\u001b[39;00m\u001b[39m/news/index?page=\u001b[39m\u001b[39m{\u001b[39;00mpage\u001b[39m+\u001b[39m\u001b[39m1\u001b[39m\u001b[39m}\u001b[39;00m\u001b[39m&isphoto=N\u001b[39m\u001b[39m'\u001b[39m\n\u001b[0;32m     <a href='vscode-notebook-cell:/d%3A/WorkSpace/02.DataAnalysis/06.%ED%85%8D%EC%8A%A4%ED%8A%B8%EB%B6%84%EC%84%9D/97.project_naver_sports_crawling.ipynb#X21sZmlsZQ%3D%3D?line=22'>23</a>\u001b[0m     driver\u001b[39m.\u001b[39mget(url)\n",
      "\u001b[1;31mValueError\u001b[0m: invalid literal for int() with base 10: '이전'"
     ]
    }
   ],
   "source": [
    "# first try\n",
    "cat_list = ['kbaseball','wbaseball','kfootball','wfootball','basketball','volleyball','golf', 'general']\n",
    "data = []\n",
    "driver = webdriver.Chrome()\n",
    "for cat in tqdm(cat_list):\n",
    "    base_url = 'https://sports.news.naver.com'\n",
    "    url = f'{base_url}/{cat}/news/index?page=1&isphoto=N'\n",
    "    driver.get(url)\n",
    "    time.sleep(1)\n",
    "\n",
    "    ori_soup = BeautifulSoup(driver.page_source, 'html.parser')\n",
    "    pages = ori_soup.select('#_pageList > a')[-1].get_text().strip()\n",
    "    if pages == '다음':\n",
    "        driver.find_element(By.XPATH, '//*[@id=\"_pageList\"]/a[10]').click()\n",
    "        time.sleep(1)\n",
    "\n",
    "        ori_soup_1 = BeautifulSoup(driver.page_source, 'html.parser')\n",
    "        pages_1 = ori_soup_1.select('#_pageList > a')[-1].get_text().strip()\n",
    "        if pages_1 == '이전':\n",
    "            pages_1 = '11'\n",
    "    else:\n",
    "        pages_1 = pages\n",
    "    print(pages_1, end= ' ')\n",
    "    for page in range(int(pages_1)):\n",
    "        url = f'{base_url}/{cat}/news/index?page={page+1}&isphoto=N'\n",
    "        driver.get(url)\n",
    "        time.sleep(2)\n",
    "        \n",
    "        soup = BeautifulSoup(driver.page_source, 'html.parser')\n",
    "        lis = soup.select('.news_list > ul > li')\n",
    "        for li in lis:\n",
    "            sub_url = li.select_one('.title')['href']\n",
    "            sub_url = base_url + sub_url\n",
    "            driver.get(sub_url)\n",
    "            time.sleep(2)\n",
    "\n",
    "            sub_soup = BeautifulSoup(driver.page_source, 'html.parser')\n",
    "            head_line = sub_soup.select_one('.news_headline > .title').get_text().strip()\n",
    "            content = sub_soup.select_one('#newsEndContents').get_text().strip()\n",
    "            content = content.replace('\\n', '').replace('\\t', '')\n",
    "            data.append(head_line)\n",
    "            # data.append(content)"
   ]
  },
  {
   "cell_type": "code",
   "execution_count": 53,
   "metadata": {},
   "outputs": [
    {
     "data": {
      "text/plain": [
       "852"
      ]
     },
     "execution_count": 53,
     "metadata": {},
     "output_type": "execute_result"
    }
   ],
   "source": [
    "len(data)"
   ]
  },
  {
   "cell_type": "code",
   "execution_count": 54,
   "metadata": {},
   "outputs": [],
   "source": [
    "data1 = data"
   ]
  },
  {
   "cell_type": "code",
   "execution_count": 56,
   "metadata": {},
   "outputs": [
    {
     "data": {
      "text/plain": [
       "1084"
      ]
     },
     "execution_count": 56,
     "metadata": {},
     "output_type": "execute_result"
    }
   ],
   "source": [
    "len(data)"
   ]
  },
  {
   "cell_type": "code",
   "execution_count": 58,
   "metadata": {},
   "outputs": [],
   "source": [
    "with open('data/naver_sports.txt', 'w', encoding='UTF-8') as file:\n",
    "    for item in data:\n",
    "        file.write(item + '\\n')"
   ]
  },
  {
   "cell_type": "code",
   "execution_count": 14,
   "metadata": {},
   "outputs": [
    {
     "name": "stderr",
     "output_type": "stream",
     "text": [
      "  0%|          | 0/1 [00:00<?, ?it/s]"
     ]
    },
    {
     "name": "stdout",
     "output_type": "stream",
     "text": [
      "17 "
     ]
    },
    {
     "name": "stderr",
     "output_type": "stream",
     "text": [
      "  0%|          | 0/1 [00:52<?, ?it/s]\n"
     ]
    },
    {
     "ename": "KeyboardInterrupt",
     "evalue": "",
     "output_type": "error",
     "traceback": [
      "\u001b[1;31m---------------------------------------------------------------------------\u001b[0m",
      "\u001b[1;31mKeyboardInterrupt\u001b[0m                         Traceback (most recent call last)",
      "\u001b[1;32md:\\WorkSpace\\02.DataAnalysis\\06.텍스트분석\\97.project_naver_sports_crawling.ipynb 셀 21\u001b[0m line \u001b[0;36m3\n\u001b[0;32m     <a href='vscode-notebook-cell:/d%3A/WorkSpace/02.DataAnalysis/06.%ED%85%8D%EC%8A%A4%ED%8A%B8%EB%B6%84%EC%84%9D/97.project_naver_sports_crawling.ipynb#X26sZmlsZQ%3D%3D?line=33'>34</a>\u001b[0m sub_url \u001b[39m=\u001b[39m base_url \u001b[39m+\u001b[39m sub_url\n\u001b[0;32m     <a href='vscode-notebook-cell:/d%3A/WorkSpace/02.DataAnalysis/06.%ED%85%8D%EC%8A%A4%ED%8A%B8%EB%B6%84%EC%84%9D/97.project_naver_sports_crawling.ipynb#X26sZmlsZQ%3D%3D?line=34'>35</a>\u001b[0m driver\u001b[39m.\u001b[39mget(sub_url)\n\u001b[1;32m---> <a href='vscode-notebook-cell:/d%3A/WorkSpace/02.DataAnalysis/06.%ED%85%8D%EC%8A%A4%ED%8A%B8%EB%B6%84%EC%84%9D/97.project_naver_sports_crawling.ipynb#X26sZmlsZQ%3D%3D?line=35'>36</a>\u001b[0m time\u001b[39m.\u001b[39msleep(\u001b[39m2\u001b[39m)\n\u001b[0;32m     <a href='vscode-notebook-cell:/d%3A/WorkSpace/02.DataAnalysis/06.%ED%85%8D%EC%8A%A4%ED%8A%B8%EB%B6%84%EC%84%9D/97.project_naver_sports_crawling.ipynb#X26sZmlsZQ%3D%3D?line=37'>38</a>\u001b[0m sub_soup \u001b[39m=\u001b[39m BeautifulSoup(driver\u001b[39m.\u001b[39mpage_source, \u001b[39m'\u001b[39m\u001b[39mhtml.parser\u001b[39m\u001b[39m'\u001b[39m)\n\u001b[0;32m     <a href='vscode-notebook-cell:/d%3A/WorkSpace/02.DataAnalysis/06.%ED%85%8D%EC%8A%A4%ED%8A%B8%EB%B6%84%EC%84%9D/97.project_naver_sports_crawling.ipynb#X26sZmlsZQ%3D%3D?line=38'>39</a>\u001b[0m head_line \u001b[39m=\u001b[39m sub_soup\u001b[39m.\u001b[39mselect_one(\u001b[39m'\u001b[39m\u001b[39m.news_headline > .title\u001b[39m\u001b[39m'\u001b[39m)\u001b[39m.\u001b[39mget_text()\u001b[39m.\u001b[39mstrip()\n",
      "\u001b[1;31mKeyboardInterrupt\u001b[0m: "
     ]
    }
   ],
   "source": [
    "# second try\n",
    "# cat_list = ['kbaseball','wbaseball','kfootball','wfootball','basketball','volleyball','golf', 'general']\n",
    "cat_list = ['wfootball']\n",
    "data = []\n",
    "driver = webdriver.Chrome()\n",
    "for cat in tqdm(cat_list):\n",
    "    base_url = 'https://sports.news.naver.com'\n",
    "    url = f'{base_url}/{cat}/news/index?page=1&isphoto=N'\n",
    "    driver.get(url)\n",
    "    time.sleep(1)\n",
    "\n",
    "    num_clicked = 0\n",
    "    while True:\n",
    "        try:\n",
    "            driver.find_element(By.CSS_SELECTOR, '.paginate > .next').click()\n",
    "            num_clicked += 1\n",
    "            time.sleep(1)\n",
    "        except:\n",
    "            ori_soup = BeautifulSoup(driver.page_source, 'html.parser')\n",
    "            pages = int(ori_soup.select('#_pageList > a')[-1].get_text().strip())\n",
    "            if pages == '이전':\n",
    "                pages = num_clicked * 10 + 1\n",
    "            break\n",
    "\n",
    "    print(pages, end= ' ')\n",
    "    for page in range(pages):\n",
    "        url = f'{base_url}/{cat}/news/index?page={page+1}&isphoto=N'\n",
    "        driver.get(url)\n",
    "        time.sleep(2)\n",
    "        \n",
    "        soup = BeautifulSoup(driver.page_source, 'html.parser')\n",
    "        lis = soup.select('.news_list > ul > li')\n",
    "        for li in lis:\n",
    "            sub_url = li.select_one('.title')['href']\n",
    "            sub_url = base_url + sub_url\n",
    "            driver.get(sub_url)\n",
    "            time.sleep(2)\n",
    "\n",
    "            sub_soup = BeautifulSoup(driver.page_source, 'html.parser')\n",
    "            head_line = sub_soup.select_one('.news_headline > .title').get_text().strip()\n",
    "            content = sub_soup.select_one('#newsEndContents').get_text().strip()\n",
    "            content = content.replace('\\n', '').replace('\\t', '')\n",
    "            data.append(head_line)\n",
    "            # data.append(content)"
   ]
  },
  {
   "cell_type": "code",
   "execution_count": null,
   "metadata": {},
   "outputs": [],
   "source": []
  }
 ],
 "metadata": {
  "kernelspec": {
   "display_name": "base",
   "language": "python",
   "name": "python3"
  },
  "language_info": {
   "codemirror_mode": {
    "name": "ipython",
    "version": 3
   },
   "file_extension": ".py",
   "mimetype": "text/x-python",
   "name": "python",
   "nbconvert_exporter": "python",
   "pygments_lexer": "ipython3",
   "version": "3.11.4"
  },
  "orig_nbformat": 4
 },
 "nbformat": 4,
 "nbformat_minor": 2
}
