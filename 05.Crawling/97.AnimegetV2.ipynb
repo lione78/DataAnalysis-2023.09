{
 "cells": [
  {
   "cell_type": "code",
   "execution_count": null,
   "metadata": {},
   "outputs": [],
   "source": [
    "from selenium import webdriver\n",
    "from selenium.webdriver.common.by import By\n",
    "import urllib.request\n",
    "import os, time\n",
    "\n",
    "def animeGAN(src_fname, dst_dir, version):\n",
    "    options = webdriver.ChromeOptions()\n",
    "    options.add_argument('--headless')   # 화면없이 실행\n",
    "    options.add_argument('--no-sandbox')\n",
    "    #options.add_argument('--disable-infobars')\n",
    "    options.add_argument(\"--single-process\")\n",
    "    options.add_argument(\"--disable-dev-shm-usage\")\n",
    "    driver = webdriver.Chrome('chromedriver', options=options)\n",
    "\n",
    "    url = 'https://huggingface.co/spaces/akhaliq/AnimeGANv2'\n",
    "    driver = webdriver.Chrome('chromedriver', options=options)\n",
    "    driver.get(url)\n",
    "    time.sleep(5)\n",
    "\n",
    "    # iframe 전환\n",
    "    driver.switch_to.frame('iFrameResizer0')\n",
    "    # 이미지 업로드\n",
    "    upload = driver.find_element(By.CSS_SELECTOR, 'input.hidden-upload.hidden')\n",
    "    fname = os.path.join(dst_dir, src_fname)        # .replace('/', '\\\\') in Windows\n",
    "    upload.send_keys(fname)\n",
    "    time.sleep(1)\n",
    "    # 버전 선택\n",
    "    if version == '1':\n",
    "        driver.find_element(By.CSS_SELECTOR, 'input.gr-check-radio.gr-radio').click()\n",
    "\n",
    "    # 제출하기 버튼 클릭\n",
    "    button = driver.find_element(By.CSS_SELECTOR, 'button.gr-button.gr-button-lg.gr-button-primary.self-start')\n",
    "    button.click()\n",
    "    time.sleep(5)\n",
    "\n",
    "    ani_img = driver.find_element(By.XPATH, '//*[@id=\"2\"]/img')\n",
    "    img_url = ani_img.get_attribute('src')\n",
    "    dst_file = os.path.join(dst_dir, \"animated_image.jpg\")\n",
    "    urllib.request.urlretrieve(img_url, dst_file)\n",
    "\n",
    "    driver.close()"
   ]
  }
 ],
 "metadata": {
  "language_info": {
   "name": "python"
  },
  "orig_nbformat": 4
 },
 "nbformat": 4,
 "nbformat_minor": 2
}
