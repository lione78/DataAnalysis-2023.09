{
 "cells": [
  {
   "cell_type": "code",
   "execution_count": 2,
   "metadata": {},
   "outputs": [],
   "source": [
    "import requests\n",
    "import pandas as pd\n",
    "from bs4 import BeautifulSoup"
   ]
  },
  {
   "cell_type": "code",
   "execution_count": 3,
   "metadata": {},
   "outputs": [],
   "source": [
    "base_url = 'https://www.genie.co.kr/chart/top200'\n",
    "sub_url = 'ditc=D&ymd=20230918&hh=15&rtm=Y&pg=1'\n",
    "url = f'{base_url}?{sub_url}'\n",
    "header = {'User-Agent' : 'Mozilla/5.0 (Windows NT 10.0; Win64; x64) AppleWebKit/537.36 (KHTML, like Gecko) Chrome/117.0.0.0 Safari/537.36'}\n",
    "res = requests.get(url, headers=header)\n",
    "soup = BeautifulSoup(res.text, 'html.parser')"
   ]
  },
  {
   "cell_type": "code",
   "execution_count": 4,
   "metadata": {},
   "outputs": [
    {
     "data": {
      "text/plain": [
       "50"
      ]
     },
     "execution_count": 4,
     "metadata": {},
     "output_type": "execute_result"
    }
   ],
   "source": [
    "trs = soup.select('.list-wrap > tbody > tr')\n",
    "len(trs)"
   ]
  },
  {
   "cell_type": "code",
   "execution_count": 5,
   "metadata": {},
   "outputs": [],
   "source": [
    "tr = trs[20]"
   ]
  },
  {
   "cell_type": "code",
   "execution_count": 6,
   "metadata": {},
   "outputs": [
    {
     "data": {
      "text/plain": [
       "21"
      ]
     },
     "execution_count": 6,
     "metadata": {},
     "output_type": "execute_result"
    }
   ],
   "source": [
    "rank = int(tr.select_one('.number').get_text().replace(tr.select_one('.number > span').get_text(), '').strip())\n",
    "rank"
   ]
  },
  {
   "cell_type": "code",
   "execution_count": 7,
   "metadata": {},
   "outputs": [
    {
     "data": {
      "text/plain": [
       "3"
      ]
     },
     "execution_count": 7,
     "metadata": {},
     "output_type": "execute_result"
    }
   ],
   "source": [
    "atag = tr.select('.info > a')\n",
    "len(atag)"
   ]
  },
  {
   "cell_type": "code",
   "execution_count": 80,
   "metadata": {},
   "outputs": [
    {
     "data": {
      "text/plain": [
       "'//image.genie.co.kr/Y/IMAGE/IMG_ALBUM/082/638/032/82638032_1651479062721_1_140x140.JPG/dims/resize/Q_80,0'"
      ]
     },
     "execution_count": 80,
     "metadata": {},
     "output_type": "execute_result"
    }
   ],
   "source": [
    "image = tr.select_one('.cover > img')['src']\n",
    "image"
   ]
  },
  {
   "cell_type": "code",
   "execution_count": 8,
   "metadata": {},
   "outputs": [
    {
     "data": {
      "text/plain": [
       "'우리들의 블루스'"
      ]
     },
     "execution_count": 8,
     "metadata": {},
     "output_type": "execute_result"
    }
   ],
   "source": [
    "title = atag[0].get_text().strip()\n",
    "title"
   ]
  },
  {
   "cell_type": "code",
   "execution_count": 9,
   "metadata": {},
   "outputs": [
    {
     "data": {
      "text/plain": [
       "'임영웅'"
      ]
     },
     "execution_count": 9,
     "metadata": {},
     "output_type": "execute_result"
    }
   ],
   "source": [
    "artist = atag[1].get_text().strip()\n",
    "artist"
   ]
  },
  {
   "cell_type": "code",
   "execution_count": 10,
   "metadata": {},
   "outputs": [
    {
     "data": {
      "text/plain": [
       "'IM HERO'"
      ]
     },
     "execution_count": 10,
     "metadata": {},
     "output_type": "execute_result"
    }
   ],
   "source": [
    "album = atag[-1].get_text().strip()\n",
    "album"
   ]
  },
  {
   "cell_type": "code",
   "execution_count": 11,
   "metadata": {},
   "outputs": [],
   "source": [
    "data = []\n",
    "for tr in trs:\n",
    "    rank = int(tr.select_one('.number').get_text().replace(tr.select_one('.number > span').get_text(), '').strip())\n",
    "    image = tr.select_one('.cover > img')['src']\n",
    "    atag = tr.select('.info > a')\n",
    "    title = atag[0].get_text().strip()\n",
    "    artist = atag[1].get_text().strip()\n",
    "    album = atag[-1].get_text().strip()\n",
    "    data.append({'순위': rank, '이미지': image, '제목': title, '아티스트': artist, '앨범': album})"
   ]
  },
  {
   "cell_type": "code",
   "execution_count": 12,
   "metadata": {},
   "outputs": [
    {
     "data": {
      "text/html": [
       "<div>\n",
       "<style scoped>\n",
       "    .dataframe tbody tr th:only-of-type {\n",
       "        vertical-align: middle;\n",
       "    }\n",
       "\n",
       "    .dataframe tbody tr th {\n",
       "        vertical-align: top;\n",
       "    }\n",
       "\n",
       "    .dataframe thead th {\n",
       "        text-align: right;\n",
       "    }\n",
       "</style>\n",
       "<table border=\"1\" class=\"dataframe\">\n",
       "  <thead>\n",
       "    <tr style=\"text-align: right;\">\n",
       "      <th></th>\n",
       "      <th>순위</th>\n",
       "      <th>이미지</th>\n",
       "      <th>제목</th>\n",
       "      <th>아티스트</th>\n",
       "      <th>앨범</th>\n",
       "    </tr>\n",
       "  </thead>\n",
       "  <tbody>\n",
       "    <tr>\n",
       "      <th>45</th>\n",
       "      <td>46</td>\n",
       "      <td>//image.genie.co.kr/Y/IMAGE/IMG_ALBUM/083/687/...</td>\n",
       "      <td>꽃</td>\n",
       "      <td>지수 (JISOO)</td>\n",
       "      <td>ME</td>\n",
       "    </tr>\n",
       "    <tr>\n",
       "      <th>46</th>\n",
       "      <td>47</td>\n",
       "      <td>//image.genie.co.kr/Y/IMAGE/IMG_ALBUM/083/325/...</td>\n",
       "      <td>OMG</td>\n",
       "      <td>NewJeans</td>\n",
       "      <td>NewJeans 'OMG'</td>\n",
       "    </tr>\n",
       "    <tr>\n",
       "      <th>47</th>\n",
       "      <td>48</td>\n",
       "      <td>//image.genie.co.kr/Y/IMAGE/IMG_ALBUM/082/638/...</td>\n",
       "      <td>보금자리</td>\n",
       "      <td>임영웅</td>\n",
       "      <td>IM HERO</td>\n",
       "    </tr>\n",
       "    <tr>\n",
       "      <th>48</th>\n",
       "      <td>49</td>\n",
       "      <td>//image.genie.co.kr/Y/IMAGE/IMG_ALBUM/084/019/...</td>\n",
       "      <td>New Jeans</td>\n",
       "      <td>NewJeans</td>\n",
       "      <td>NewJeans 2nd EP 'Get Up'</td>\n",
       "    </tr>\n",
       "    <tr>\n",
       "      <th>49</th>\n",
       "      <td>50</td>\n",
       "      <td>//image.genie.co.kr/Y/IMAGE/IMG_ALBUM/083/082/...</td>\n",
       "      <td>ANTIFRAGILE</td>\n",
       "      <td>LE SSERAFIM (르세라핌)</td>\n",
       "      <td>ANTIFRAGILE</td>\n",
       "    </tr>\n",
       "  </tbody>\n",
       "</table>\n",
       "</div>"
      ],
      "text/plain": [
       "    순위                                                이미지           제목  \\\n",
       "45  46  //image.genie.co.kr/Y/IMAGE/IMG_ALBUM/083/687/...            꽃   \n",
       "46  47  //image.genie.co.kr/Y/IMAGE/IMG_ALBUM/083/325/...          OMG   \n",
       "47  48  //image.genie.co.kr/Y/IMAGE/IMG_ALBUM/082/638/...         보금자리   \n",
       "48  49  //image.genie.co.kr/Y/IMAGE/IMG_ALBUM/084/019/...    New Jeans   \n",
       "49  50  //image.genie.co.kr/Y/IMAGE/IMG_ALBUM/083/082/...  ANTIFRAGILE   \n",
       "\n",
       "                  아티스트                        앨범  \n",
       "45          지수 (JISOO)                        ME  \n",
       "46            NewJeans            NewJeans 'OMG'  \n",
       "47                 임영웅                   IM HERO  \n",
       "48            NewJeans  NewJeans 2nd EP 'Get Up'  \n",
       "49  LE SSERAFIM (르세라핌)               ANTIFRAGILE  "
      ]
     },
     "execution_count": 12,
     "metadata": {},
     "output_type": "execute_result"
    }
   ],
   "source": [
    "df = pd.DataFrame(data)\n",
    "df.tail()"
   ]
  },
  {
   "cell_type": "code",
   "execution_count": 13,
   "metadata": {},
   "outputs": [],
   "source": [
    "data = []\n",
    "for i in range(1, 5):\n",
    "    sub_url = f'ditc=D&ymd=20230918&hh=15&rtm=Y&pg={i}'\n",
    "    url = f'{base_url}?{sub_url}'\n",
    "    res = requests.get(url, headers=header)\n",
    "    soup = BeautifulSoup(res.text, 'html.parser')\n",
    "    trs = soup.select('.list-wrap > tbody > tr')\n",
    "    for tr in trs:\n",
    "        rank = int(tr.select_one('.number').get_text().replace(tr.select_one('.number > span').get_text(), '').strip())\n",
    "        image = tr.select_one('.cover > img')['src']\n",
    "        atag = tr.select('.info > a')\n",
    "        title = atag[0].get_text().strip()\n",
    "        artist = atag[1].get_text().strip()\n",
    "        album = atag[-1].get_text().strip()\n",
    "        data.append({'순위': rank, '이미지': image, '제목': title, '아티스트': artist, '앨범': album})"
   ]
  },
  {
   "cell_type": "code",
   "execution_count": 14,
   "metadata": {},
   "outputs": [
    {
     "data": {
      "text/html": [
       "<div>\n",
       "<style scoped>\n",
       "    .dataframe tbody tr th:only-of-type {\n",
       "        vertical-align: middle;\n",
       "    }\n",
       "\n",
       "    .dataframe tbody tr th {\n",
       "        vertical-align: top;\n",
       "    }\n",
       "\n",
       "    .dataframe thead th {\n",
       "        text-align: right;\n",
       "    }\n",
       "</style>\n",
       "<table border=\"1\" class=\"dataframe\">\n",
       "  <thead>\n",
       "    <tr style=\"text-align: right;\">\n",
       "      <th></th>\n",
       "      <th>순위</th>\n",
       "      <th>이미지</th>\n",
       "      <th>제목</th>\n",
       "      <th>아티스트</th>\n",
       "      <th>앨범</th>\n",
       "    </tr>\n",
       "  </thead>\n",
       "  <tbody>\n",
       "    <tr>\n",
       "      <th>195</th>\n",
       "      <td>196</td>\n",
       "      <td>//image.genie.co.kr/Y/IMAGE/IMG_ALBUM/081/276/...</td>\n",
       "      <td>10,000 Hours</td>\n",
       "      <td>Dan ＋ Shay &amp; Justin Bieber</td>\n",
       "      <td>Good Things</td>\n",
       "    </tr>\n",
       "    <tr>\n",
       "      <th>196</th>\n",
       "      <td>197</td>\n",
       "      <td>//image.genie.co.kr/Y/IMAGE/IMG_ALBUM/080/256/...</td>\n",
       "      <td>Lonely</td>\n",
       "      <td>2NE1</td>\n",
       "      <td>Lonely</td>\n",
       "    </tr>\n",
       "    <tr>\n",
       "      <th>197</th>\n",
       "      <td>198</td>\n",
       "      <td>//image.genie.co.kr/Y/IMAGE/IMG_ALBUM/083/793/...</td>\n",
       "      <td>나의 바람 (Wind And Wish)</td>\n",
       "      <td>비투비</td>\n",
       "      <td>WIND AND WISH</td>\n",
       "    </tr>\n",
       "    <tr>\n",
       "      <th>198</th>\n",
       "      <td>199</td>\n",
       "      <td>//image.genie.co.kr/Y/IMAGE/IMG_ALBUM/045/790/...</td>\n",
       "      <td>Love Love Love (Feat. Yoong Jin of Casker))</td>\n",
       "      <td>에픽하이 (EPIK HIGH)</td>\n",
       "      <td>Remapping The Human Soul</td>\n",
       "    </tr>\n",
       "    <tr>\n",
       "      <th>199</th>\n",
       "      <td>200</td>\n",
       "      <td>//image.genie.co.kr/Y/IMAGE/IMG_ALBUM/081/867/...</td>\n",
       "      <td>라일락</td>\n",
       "      <td>아이유 (IU)</td>\n",
       "      <td>IU 5th Album 'LILAC'</td>\n",
       "    </tr>\n",
       "  </tbody>\n",
       "</table>\n",
       "</div>"
      ],
      "text/plain": [
       "      순위                                                이미지  \\\n",
       "195  196  //image.genie.co.kr/Y/IMAGE/IMG_ALBUM/081/276/...   \n",
       "196  197  //image.genie.co.kr/Y/IMAGE/IMG_ALBUM/080/256/...   \n",
       "197  198  //image.genie.co.kr/Y/IMAGE/IMG_ALBUM/083/793/...   \n",
       "198  199  //image.genie.co.kr/Y/IMAGE/IMG_ALBUM/045/790/...   \n",
       "199  200  //image.genie.co.kr/Y/IMAGE/IMG_ALBUM/081/867/...   \n",
       "\n",
       "                                              제목                        아티스트  \\\n",
       "195                                 10,000 Hours  Dan ＋ Shay & Justin Bieber   \n",
       "196                                       Lonely                        2NE1   \n",
       "197                        나의 바람 (Wind And Wish)                         비투비   \n",
       "198  Love Love Love (Feat. Yoong Jin of Casker))            에픽하이 (EPIK HIGH)   \n",
       "199                                          라일락                    아이유 (IU)   \n",
       "\n",
       "                           앨범  \n",
       "195               Good Things  \n",
       "196                    Lonely  \n",
       "197             WIND AND WISH  \n",
       "198  Remapping The Human Soul  \n",
       "199      IU 5th Album 'LILAC'  "
      ]
     },
     "execution_count": 14,
     "metadata": {},
     "output_type": "execute_result"
    }
   ],
   "source": [
    "df1 = pd.DataFrame(data)\n",
    "df1.tail()"
   ]
  },
  {
   "cell_type": "code",
   "execution_count": 15,
   "metadata": {},
   "outputs": [
    {
     "data": {
      "text/html": [
       "<div>\n",
       "<style scoped>\n",
       "    .dataframe tbody tr th:only-of-type {\n",
       "        vertical-align: middle;\n",
       "    }\n",
       "\n",
       "    .dataframe tbody tr th {\n",
       "        vertical-align: top;\n",
       "    }\n",
       "\n",
       "    .dataframe thead th {\n",
       "        text-align: right;\n",
       "    }\n",
       "</style>\n",
       "<table border=\"1\" class=\"dataframe\">\n",
       "  <thead>\n",
       "    <tr style=\"text-align: right;\">\n",
       "      <th></th>\n",
       "      <th>순위</th>\n",
       "      <th>이미지</th>\n",
       "      <th>제목</th>\n",
       "      <th>아티스트</th>\n",
       "      <th>앨범</th>\n",
       "    </tr>\n",
       "  </thead>\n",
       "  <tbody>\n",
       "    <tr>\n",
       "      <th>0</th>\n",
       "      <td>1</td>\n",
       "      <td>//image.genie.co.kr/Y/IMAGE/IMG_ALBUM/084/181/...</td>\n",
       "      <td>Love Lee</td>\n",
       "      <td>AKMU (악뮤)</td>\n",
       "      <td>Love Lee</td>\n",
       "    </tr>\n",
       "    <tr>\n",
       "      <th>1</th>\n",
       "      <td>2</td>\n",
       "      <td>//image.genie.co.kr/Y/IMAGE/IMG_ALBUM/084/193/...</td>\n",
       "      <td>Smoke (Prod. by Dynamicduo &amp; Padi)</td>\n",
       "      <td>다이나믹 듀오 &amp; 이영지</td>\n",
       "      <td>스트릿 우먼 파이터2 (SWF2) 계급미션</td>\n",
       "    </tr>\n",
       "    <tr>\n",
       "      <th>2</th>\n",
       "      <td>3</td>\n",
       "      <td>//image.genie.co.kr/Y/IMAGE/IMG_ALBUM/084/181/...</td>\n",
       "      <td>후라이의 꿈</td>\n",
       "      <td>AKMU (악뮤)</td>\n",
       "      <td>Love Lee</td>\n",
       "    </tr>\n",
       "    <tr>\n",
       "      <th>3</th>\n",
       "      <td>4</td>\n",
       "      <td>//image.genie.co.kr/Y/IMAGE/IMG_ALBUM/084/019/...</td>\n",
       "      <td>ETA</td>\n",
       "      <td>NewJeans</td>\n",
       "      <td>NewJeans 2nd EP 'Get Up'</td>\n",
       "    </tr>\n",
       "    <tr>\n",
       "      <th>4</th>\n",
       "      <td>5</td>\n",
       "      <td>//image.genie.co.kr/Y/IMAGE/IMG_ALBUM/084/048/...</td>\n",
       "      <td>Seven (Feat. Latto) (Clean Ver.)</td>\n",
       "      <td>정국</td>\n",
       "      <td>Seven (Clean Ver.)</td>\n",
       "    </tr>\n",
       "    <tr>\n",
       "      <th>5</th>\n",
       "      <td>6</td>\n",
       "      <td>//image.genie.co.kr/Y/IMAGE/IMG_ALBUM/084/019/...</td>\n",
       "      <td>Super Shy</td>\n",
       "      <td>NewJeans</td>\n",
       "      <td>NewJeans 2nd EP 'Get Up'</td>\n",
       "    </tr>\n",
       "    <tr>\n",
       "      <th>6</th>\n",
       "      <td>7</td>\n",
       "      <td>//image.genie.co.kr/Y/IMAGE/IMG_ALBUM/083/748/...</td>\n",
       "      <td>헤어지자 말해요</td>\n",
       "      <td>박재정</td>\n",
       "      <td>1집 Alone</td>\n",
       "    </tr>\n",
       "    <tr>\n",
       "      <th>7</th>\n",
       "      <td>8</td>\n",
       "      <td>//image.genie.co.kr/Y/IMAGE/IMG_ALBUM/084/127/...</td>\n",
       "      <td>Fast Forward</td>\n",
       "      <td>전소미</td>\n",
       "      <td>GAME PLAN</td>\n",
       "    </tr>\n",
       "    <tr>\n",
       "      <th>8</th>\n",
       "      <td>9</td>\n",
       "      <td>//image.genie.co.kr/Y/IMAGE/IMG_ALBUM/083/665/...</td>\n",
       "      <td>I AM</td>\n",
       "      <td>IVE (아이브)</td>\n",
       "      <td>I've IVE</td>\n",
       "    </tr>\n",
       "    <tr>\n",
       "      <th>9</th>\n",
       "      <td>10</td>\n",
       "      <td>//image.genie.co.kr/Y/IMAGE/IMG_ALBUM/083/810/...</td>\n",
       "      <td>퀸카 (Queencard)</td>\n",
       "      <td>(여자)아이들</td>\n",
       "      <td>I feel</td>\n",
       "    </tr>\n",
       "    <tr>\n",
       "      <th>10</th>\n",
       "      <td>11</td>\n",
       "      <td>//image.genie.co.kr/Y/IMAGE/IMG_ALBUM/082/842/...</td>\n",
       "      <td>Hype boy</td>\n",
       "      <td>NewJeans</td>\n",
       "      <td>NewJeans 1st EP 'New Jeans'</td>\n",
       "    </tr>\n",
       "    <tr>\n",
       "      <th>11</th>\n",
       "      <td>12</td>\n",
       "      <td>//image.genie.co.kr/Y/IMAGE/IMG_ALBUM/084/030/...</td>\n",
       "      <td>사막에서 꽃을 피우듯</td>\n",
       "      <td>우디 (Woody)</td>\n",
       "      <td>사막에서 꽃을 피우듯</td>\n",
       "    </tr>\n",
       "    <tr>\n",
       "      <th>12</th>\n",
       "      <td>13</td>\n",
       "      <td>//image.genie.co.kr/Y/IMAGE/IMG_ALBUM/084/234/...</td>\n",
       "      <td>I Love My Body</td>\n",
       "      <td>화사 (HWASA)</td>\n",
       "      <td>I Love My Body</td>\n",
       "    </tr>\n",
       "    <tr>\n",
       "      <th>13</th>\n",
       "      <td>14</td>\n",
       "      <td>//image.genie.co.kr/Y/IMAGE/IMG_ALBUM/083/779/...</td>\n",
       "      <td>이브, 프시케 그리고 푸른 수염의 아내</td>\n",
       "      <td>LE SSERAFIM (르세라핌)</td>\n",
       "      <td>UNFORGIVEN</td>\n",
       "    </tr>\n",
       "    <tr>\n",
       "      <th>14</th>\n",
       "      <td>15</td>\n",
       "      <td>//image.genie.co.kr/Y/IMAGE/IMG_ALBUM/082/322/...</td>\n",
       "      <td>사랑은 늘 도망가</td>\n",
       "      <td>임영웅</td>\n",
       "      <td>신사와 아가씨 OST Part.2</td>\n",
       "    </tr>\n",
       "    <tr>\n",
       "      <th>15</th>\n",
       "      <td>16</td>\n",
       "      <td>//image.genie.co.kr/Y/IMAGE/IMG_ALBUM/082/614/...</td>\n",
       "      <td>사건의 지평선</td>\n",
       "      <td>윤하 (YOUNHA)</td>\n",
       "      <td>YOUNHA 6th Album Repackage 'END THEORY : Final...</td>\n",
       "    </tr>\n",
       "    <tr>\n",
       "      <th>16</th>\n",
       "      <td>17</td>\n",
       "      <td>//image.genie.co.kr/Y/IMAGE/IMG_ALBUM/083/665/...</td>\n",
       "      <td>Kitsch</td>\n",
       "      <td>IVE (아이브)</td>\n",
       "      <td>I've IVE</td>\n",
       "    </tr>\n",
       "    <tr>\n",
       "      <th>17</th>\n",
       "      <td>18</td>\n",
       "      <td>//image.genie.co.kr/Y/IMAGE/IMG_ALBUM/083/325/...</td>\n",
       "      <td>Ditto</td>\n",
       "      <td>NewJeans</td>\n",
       "      <td>NewJeans 'OMG'</td>\n",
       "    </tr>\n",
       "    <tr>\n",
       "      <th>18</th>\n",
       "      <td>19</td>\n",
       "      <td>//image.genie.co.kr/Y/IMAGE/IMG_ALBUM/083/793/...</td>\n",
       "      <td>Spicy</td>\n",
       "      <td>aespa</td>\n",
       "      <td>MY WORLD - The 3rd Mini Album</td>\n",
       "    </tr>\n",
       "    <tr>\n",
       "      <th>19</th>\n",
       "      <td>20</td>\n",
       "      <td>//image.genie.co.kr/Y/IMAGE/IMG_ALBUM/084/157/...</td>\n",
       "      <td>Bubble</td>\n",
       "      <td>STAYC (스테이씨)</td>\n",
       "      <td>TEENFRESH</td>\n",
       "    </tr>\n",
       "  </tbody>\n",
       "</table>\n",
       "</div>"
      ],
      "text/plain": [
       "    순위                                                이미지  \\\n",
       "0    1  //image.genie.co.kr/Y/IMAGE/IMG_ALBUM/084/181/...   \n",
       "1    2  //image.genie.co.kr/Y/IMAGE/IMG_ALBUM/084/193/...   \n",
       "2    3  //image.genie.co.kr/Y/IMAGE/IMG_ALBUM/084/181/...   \n",
       "3    4  //image.genie.co.kr/Y/IMAGE/IMG_ALBUM/084/019/...   \n",
       "4    5  //image.genie.co.kr/Y/IMAGE/IMG_ALBUM/084/048/...   \n",
       "5    6  //image.genie.co.kr/Y/IMAGE/IMG_ALBUM/084/019/...   \n",
       "6    7  //image.genie.co.kr/Y/IMAGE/IMG_ALBUM/083/748/...   \n",
       "7    8  //image.genie.co.kr/Y/IMAGE/IMG_ALBUM/084/127/...   \n",
       "8    9  //image.genie.co.kr/Y/IMAGE/IMG_ALBUM/083/665/...   \n",
       "9   10  //image.genie.co.kr/Y/IMAGE/IMG_ALBUM/083/810/...   \n",
       "10  11  //image.genie.co.kr/Y/IMAGE/IMG_ALBUM/082/842/...   \n",
       "11  12  //image.genie.co.kr/Y/IMAGE/IMG_ALBUM/084/030/...   \n",
       "12  13  //image.genie.co.kr/Y/IMAGE/IMG_ALBUM/084/234/...   \n",
       "13  14  //image.genie.co.kr/Y/IMAGE/IMG_ALBUM/083/779/...   \n",
       "14  15  //image.genie.co.kr/Y/IMAGE/IMG_ALBUM/082/322/...   \n",
       "15  16  //image.genie.co.kr/Y/IMAGE/IMG_ALBUM/082/614/...   \n",
       "16  17  //image.genie.co.kr/Y/IMAGE/IMG_ALBUM/083/665/...   \n",
       "17  18  //image.genie.co.kr/Y/IMAGE/IMG_ALBUM/083/325/...   \n",
       "18  19  //image.genie.co.kr/Y/IMAGE/IMG_ALBUM/083/793/...   \n",
       "19  20  //image.genie.co.kr/Y/IMAGE/IMG_ALBUM/084/157/...   \n",
       "\n",
       "                                    제목                아티스트  \\\n",
       "0                             Love Lee           AKMU (악뮤)   \n",
       "1   Smoke (Prod. by Dynamicduo & Padi)       다이나믹 듀오 & 이영지   \n",
       "2                               후라이의 꿈           AKMU (악뮤)   \n",
       "3                                  ETA            NewJeans   \n",
       "4     Seven (Feat. Latto) (Clean Ver.)                  정국   \n",
       "5                            Super Shy            NewJeans   \n",
       "6                             헤어지자 말해요                 박재정   \n",
       "7                         Fast Forward                 전소미   \n",
       "8                                 I AM           IVE (아이브)   \n",
       "9                       퀸카 (Queencard)             (여자)아이들   \n",
       "10                            Hype boy            NewJeans   \n",
       "11                         사막에서 꽃을 피우듯          우디 (Woody)   \n",
       "12                      I Love My Body          화사 (HWASA)   \n",
       "13               이브, 프시케 그리고 푸른 수염의 아내  LE SSERAFIM (르세라핌)   \n",
       "14                           사랑은 늘 도망가                 임영웅   \n",
       "15                             사건의 지평선         윤하 (YOUNHA)   \n",
       "16                              Kitsch           IVE (아이브)   \n",
       "17                               Ditto            NewJeans   \n",
       "18                               Spicy               aespa   \n",
       "19                              Bubble        STAYC (스테이씨)   \n",
       "\n",
       "                                                   앨범  \n",
       "0                                            Love Lee  \n",
       "1                             스트릿 우먼 파이터2 (SWF2) 계급미션  \n",
       "2                                            Love Lee  \n",
       "3                            NewJeans 2nd EP 'Get Up'  \n",
       "4                                  Seven (Clean Ver.)  \n",
       "5                            NewJeans 2nd EP 'Get Up'  \n",
       "6                                            1집 Alone  \n",
       "7                                           GAME PLAN  \n",
       "8                                            I've IVE  \n",
       "9                                              I feel  \n",
       "10                        NewJeans 1st EP 'New Jeans'  \n",
       "11                                        사막에서 꽃을 피우듯  \n",
       "12                                     I Love My Body  \n",
       "13                                         UNFORGIVEN  \n",
       "14                                 신사와 아가씨 OST Part.2  \n",
       "15  YOUNHA 6th Album Repackage 'END THEORY : Final...  \n",
       "16                                           I've IVE  \n",
       "17                                     NewJeans 'OMG'  \n",
       "18                      MY WORLD - The 3rd Mini Album  \n",
       "19                                          TEENFRESH  "
      ]
     },
     "execution_count": 15,
     "metadata": {},
     "output_type": "execute_result"
    }
   ],
   "source": [
    "df1.head(20)"
   ]
  },
  {
   "cell_type": "code",
   "execution_count": 16,
   "metadata": {},
   "outputs": [
    {
     "data": {
      "text/html": [
       "<div>\n",
       "<style scoped>\n",
       "    .dataframe tbody tr th:only-of-type {\n",
       "        vertical-align: middle;\n",
       "    }\n",
       "\n",
       "    .dataframe tbody tr th {\n",
       "        vertical-align: top;\n",
       "    }\n",
       "\n",
       "    .dataframe thead th {\n",
       "        text-align: right;\n",
       "    }\n",
       "</style>\n",
       "<table border=\"1\" class=\"dataframe\">\n",
       "  <thead>\n",
       "    <tr style=\"text-align: right;\">\n",
       "      <th></th>\n",
       "      <th>순위</th>\n",
       "      <th>이미지</th>\n",
       "      <th>제목</th>\n",
       "      <th>아티스트</th>\n",
       "      <th>앨범</th>\n",
       "    </tr>\n",
       "  </thead>\n",
       "  <tbody>\n",
       "    <tr>\n",
       "      <th>0</th>\n",
       "      <td>1</td>\n",
       "      <td>//image.genie.co.kr/Y/IMAGE/IMG_ALBUM/084/181/...</td>\n",
       "      <td>Love Lee</td>\n",
       "      <td>AKMU (악뮤)</td>\n",
       "      <td>Love Lee</td>\n",
       "    </tr>\n",
       "    <tr>\n",
       "      <th>1</th>\n",
       "      <td>2</td>\n",
       "      <td>//image.genie.co.kr/Y/IMAGE/IMG_ALBUM/084/193/...</td>\n",
       "      <td>Smoke (Prod. by Dynamicduo &amp; Padi)</td>\n",
       "      <td>다이나믹 듀오 &amp; 이영지</td>\n",
       "      <td>스트릿 우먼 파이터2 (SWF2) 계급미션</td>\n",
       "    </tr>\n",
       "    <tr>\n",
       "      <th>2</th>\n",
       "      <td>3</td>\n",
       "      <td>//image.genie.co.kr/Y/IMAGE/IMG_ALBUM/084/181/...</td>\n",
       "      <td>후라이의 꿈</td>\n",
       "      <td>AKMU (악뮤)</td>\n",
       "      <td>Love Lee</td>\n",
       "    </tr>\n",
       "    <tr>\n",
       "      <th>3</th>\n",
       "      <td>4</td>\n",
       "      <td>//image.genie.co.kr/Y/IMAGE/IMG_ALBUM/084/019/...</td>\n",
       "      <td>ETA</td>\n",
       "      <td>NewJeans</td>\n",
       "      <td>NewJeans 2nd EP 'Get Up'</td>\n",
       "    </tr>\n",
       "    <tr>\n",
       "      <th>4</th>\n",
       "      <td>5</td>\n",
       "      <td>//image.genie.co.kr/Y/IMAGE/IMG_ALBUM/084/048/...</td>\n",
       "      <td>Seven (Feat. Latto) (Clean Ver.)</td>\n",
       "      <td>정국</td>\n",
       "      <td>Seven (Clean Ver.)</td>\n",
       "    </tr>\n",
       "  </tbody>\n",
       "</table>\n",
       "</div>"
      ],
      "text/plain": [
       "   순위                                                이미지  \\\n",
       "0   1  //image.genie.co.kr/Y/IMAGE/IMG_ALBUM/084/181/...   \n",
       "1   2  //image.genie.co.kr/Y/IMAGE/IMG_ALBUM/084/193/...   \n",
       "2   3  //image.genie.co.kr/Y/IMAGE/IMG_ALBUM/084/181/...   \n",
       "3   4  //image.genie.co.kr/Y/IMAGE/IMG_ALBUM/084/019/...   \n",
       "4   5  //image.genie.co.kr/Y/IMAGE/IMG_ALBUM/084/048/...   \n",
       "\n",
       "                                   제목           아티스트                        앨범  \n",
       "0                            Love Lee      AKMU (악뮤)                  Love Lee  \n",
       "1  Smoke (Prod. by Dynamicduo & Padi)  다이나믹 듀오 & 이영지   스트릿 우먼 파이터2 (SWF2) 계급미션  \n",
       "2                              후라이의 꿈      AKMU (악뮤)                  Love Lee  \n",
       "3                                 ETA       NewJeans  NewJeans 2nd EP 'Get Up'  \n",
       "4    Seven (Feat. Latto) (Clean Ver.)             정국        Seven (Clean Ver.)  "
      ]
     },
     "execution_count": 16,
     "metadata": {},
     "output_type": "execute_result"
    }
   ],
   "source": [
    "df1.to_csv('data/지니차트_230918.csv', index=False)\n",
    "pd.read_csv('data/지니차트_230918.csv').head()"
   ]
  },
  {
   "cell_type": "code",
   "execution_count": null,
   "metadata": {},
   "outputs": [],
   "source": []
  }
 ],
 "metadata": {
  "kernelspec": {
   "display_name": "base",
   "language": "python",
   "name": "python3"
  },
  "language_info": {
   "codemirror_mode": {
    "name": "ipython",
    "version": 3
   },
   "file_extension": ".py",
   "mimetype": "text/x-python",
   "name": "python",
   "nbconvert_exporter": "python",
   "pygments_lexer": "ipython3",
   "version": "3.11.4"
  },
  "orig_nbformat": 4
 },
 "nbformat": 4,
 "nbformat_minor": 2
}
