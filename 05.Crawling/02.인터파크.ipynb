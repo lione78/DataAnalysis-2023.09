{
 "cells": [
  {
   "cell_type": "markdown",
   "metadata": {},
   "source": [
    "## 인터파크 - 베스트셀러"
   ]
  },
  {
   "cell_type": "code",
   "execution_count": 1,
   "metadata": {},
   "outputs": [],
   "source": [
    "import requests\n",
    "import pandas as pd\n",
    "from bs4 import BeautifulSoup"
   ]
  },
  {
   "cell_type": "markdown",
   "metadata": {},
   "source": [
    "- Step 1) 사이트에 접속하고 HTML 데이터를 가져와 파싱"
   ]
  },
  {
   "cell_type": "code",
   "execution_count": 4,
   "metadata": {},
   "outputs": [],
   "source": [
    "url = 'http://book.interpark.com/display/collectlist.do?_method=bestsellerHourNew&bookblockname=b_gnb&booklinkname=%BA%A3%BD%BA%C6%AE%C1%B8&bid1=w_bgnb&bid2=LiveRanking&bid3=main&bid4=001'\n",
    "res = requests.get(url)     # html 파일로 반환\n",
    "soup = BeautifulSoup(res.text, 'html.parser')"
   ]
  },
  {
   "cell_type": "code",
   "execution_count": 5,
   "metadata": {},
   "outputs": [
    {
     "name": "stdout",
     "output_type": "stream",
     "text": [
      "\n",
      "\n",
      "\n",
      "<!DOCTYPE html>\n",
      "<html lang=\"ko\">\n",
      "<head>\n",
      "\n",
      " \n",
      "\n",
      "    <title>인터파크 도서</title>\n",
      "    <meta http-equiv=\"Content-Type\" content=\"text/html; charset=euc-kr\">\n",
      "    <meta http-equiv=\"X-UA-Compatible\" content=\"IE=edge,chrome=1\">\n",
      "    <meta name=\"keywords\" content=\"인터파크도서, 인터넷 서점, eBook, 비스킷탭, 음반, DVD, 중고책, 중고책서점, 신간도서, 국내도서, 외국도서, 추천도서\">\n",
      "    <meta name=\"description\" content=\"문학은 인터파크 도서!\">\n",
      "    <meta http-equiv=\"Cache-Control\" content=\"no-cache\"/>\n",
      "    <meta http-equiv=\"Expires\" content=\"0\"/>\n",
      "    <meta http-equiv=\"Pragma\" content=\"no-cache\"/>\n",
      "    <link rel=\"shortcut icon\" href=\"http://qi-b.qoo10cdn.com/interpark.ico\">\n",
      "    <meta http-equiv=\"imagetoolbar\" content=\"no\"/>\n",
      "    <meta name=\"naver-site-verification\" content=\"295287bf1753708aabe3586a6cbb4b39761ff03b\" />\n",
      "    <script type=\"text/javascript\">\n",
      "        var isFancyAlert = false;    // IMFS에서는 msgAlert 기능을 비활성화시킴\n",
      "        var imfsSSLDomain = \"https://book.interpark.com\"; // com.interpark.util.web.ServletUtils.IMFS_URL_SSL 값을 사용하였으나,\n"
     ]
    }
   ],
   "source": [
    "print(res.text[:1000])"
   ]
  },
  {
   "cell_type": "markdown",
   "metadata": {},
   "source": [
    "- Step 2) 원하는 데이터 찾기"
   ]
  },
  {
   "cell_type": "code",
   "execution_count": 6,
   "metadata": {},
   "outputs": [
    {
     "data": {
      "text/plain": [
       "15"
      ]
     },
     "execution_count": 6,
     "metadata": {},
     "output_type": "execute_result"
    }
   ],
   "source": [
    "lis = soup.select('.rankBestContentList > ol > li')\n",
    "len(lis)"
   ]
  },
  {
   "cell_type": "markdown",
   "metadata": {},
   "source": [
    "- Step 3) 하나를 선택해서 원하는 정보 추출"
   ]
  },
  {
   "cell_type": "code",
   "execution_count": 30,
   "metadata": {},
   "outputs": [],
   "source": [
    "li = lis[11]"
   ]
  },
  {
   "cell_type": "code",
   "execution_count": 32,
   "metadata": {},
   "outputs": [
    {
     "data": {
      "text/plain": [
       "<li>\n",
       "<!-- listItem | singleType or setType :: start -->\n",
       "<div class=\"listItem singleType\">\n",
       "<div class=\"cover\">\n",
       "<div class=\"coverImage\">\n",
       "<label>\n",
       "<a href=\"/product/BookDisplay.do?_method=detail&amp;sc.shopNo=0000400000&amp;sc.prdNo=356795170&amp;sc.saNo=003003001&amp;bid1=Best_zone&amp;bid2=LiveRanking&amp;bid3=PRD&amp;bid4=001\" target=\"_blank\">\n",
       "<span class=\"checkBox\">\n",
       "<input name=\"_KEY\" type=\"checkbox\" value=\"356795170\"/>\n",
       "</span>\n",
       "<img alt=\"힘과 쉼\" src=\"https://qi-b.qoo10cdn.com/partner/goods_image/5/1/7/0/356795170s.jpg\"/>\n",
       "<i class=\"decoFront\"></i>\n",
       "</a>\n",
       "</label>\n",
       "</div>\n",
       "<div class=\"coverOption\">\n",
       "<ul>\n",
       "<li class=\"cart\">\n",
       "<a class=\"cartGo\" href=\"#\" value=\"356795170\"><span>CART</span></a>\n",
       "</li>\n",
       "<li class=\"buy\">\n",
       "<a href=\"javascript:directOrd('356795170');\"><span>BUY</span></a>\n",
       "</li>\n",
       "</ul>\n",
       "</div>\n",
       "<div class=\"rankNumber digit2\">\n",
       "<span class=\"rankBtn_ctrl rkNum_M01\"></span><span class=\"rankBtn_ctrl rkNum_M02\"></span>\n",
       "</div>\n",
       "</div>\n",
       "<div class=\"itemIcon\">\n",
       "</div>\n",
       "<a href=\"/product/BookDisplay.do?_method=detail&amp;sc.shopNo=0000400000&amp;sc.prdNo=356795170&amp;sc.saNo=003003001&amp;bid1=Best_zone&amp;bid2=LiveRanking&amp;bid3=PRD&amp;bid4=001\" target=\"_blank\">\n",
       "<div class=\"itemName\"><strong>힘과 쉼 </strong></div>\n",
       "<div class=\"itemMeta\">\n",
       "<span class=\"author\">백영옥</span>\n",
       "<span class=\"company\">김영사</span>\n",
       "</div>\n",
       "<div class=\"priceWrap\">\n",
       "<span class=\"price\">\n",
       "<em>15,120</em>\n",
       "<span class=\"currency\">원</span>\n",
       "</span>\n",
       "<span class=\"benefits\">\n",
       "<span>(</span>\n",
       "<span class=\"discount\">\n",
       "<em>10%</em>\n",
       "<span class=\"unit\">할인</span>\n",
       "</span>\n",
       "<span class=\"save\">\n",
       "<em>5%</em>\n",
       "<span class=\"unit\">적립</span>\n",
       "</span>\n",
       "<span>)</span>\n",
       "</span>\n",
       "</div>\n",
       "</a>\n",
       "<div class=\"reviewStat\">\n",
       "<span class=\"title\">평점</span>\n",
       "<span class=\"starRateWrap\">\n",
       "<span class=\"starRate\" style=\"width:0%\"></span>\n",
       "</span>\n",
       "<em class=\"rateNumber\"></em>\n",
       "</div>\n",
       "<div class=\"saleIndex\">\n",
       "<span class=\"title\">판매지수</span>\n",
       "<em class=\"indexNumber\">402</em>\n",
       "</div>\n",
       "<div class=\"relatedEvent\">\n",
       "<ul>\n",
       "</ul>\n",
       "</div>\n",
       "</div>\n",
       "<!-- singleType or setType :: end -->\n",
       "</li>"
      ]
     },
     "execution_count": 32,
     "metadata": {},
     "output_type": "execute_result"
    }
   ],
   "source": [
    "li"
   ]
  },
  {
   "cell_type": "code",
   "execution_count": 2,
   "metadata": {},
   "outputs": [
    {
     "data": {
      "text/plain": [
       "'\\n<div class=\"rankNumber digit2\">\\n    <span class=\"rankBtn_ctrl rkNum_B06 \"></span>\\n</div>\\n<div class=\"rankNumber digit2\">\\n    <span class=\"rankBtn_ctrl rkNum_M01 \"></span>\\n    <span class=\"rankBtn_ctrl rkNum_M00 \"></span>\\n</div>\\n'"
      ]
     },
     "execution_count": 2,
     "metadata": {},
     "output_type": "execute_result"
    }
   ],
   "source": [
    "### 순위\n",
    "'''\n",
    "<div class=\"rankNumber digit2\">\n",
    "    <span class=\"rankBtn_ctrl rkNum_B06 \"></span>\n",
    "</div>\n",
    "<div class=\"rankNumber digit2\">\n",
    "    <span class=\"rankBtn_ctrl rkNum_M01 \"></span>\n",
    "    <span class=\"rankBtn_ctrl rkNum_M00 \"></span>\n",
    "</div>\n",
    "'''"
   ]
  },
  {
   "cell_type": "code",
   "execution_count": 12,
   "metadata": {},
   "outputs": [
    {
     "data": {
      "text/plain": [
       "'6'"
      ]
     },
     "execution_count": 12,
     "metadata": {},
     "output_type": "execute_result"
    }
   ],
   "source": [
    "rank_data = lis[6].select('.rankBtn_ctrl')\n",
    "rank_data[0]['class']"
   ]
  },
  {
   "cell_type": "code",
   "execution_count": 13,
   "metadata": {},
   "outputs": [
    {
     "data": {
      "text/plain": [
       "['rankBtn_ctrl', 'rkNum_M00']"
      ]
     },
     "execution_count": 13,
     "metadata": {},
     "output_type": "execute_result"
    }
   ],
   "source": [
    "rank_data = lis[10].select('.rankBtn_ctrl')\n",
    "rank_data[0]['class'][-1][-1]"
   ]
  },
  {
   "cell_type": "code",
   "execution_count": 14,
   "metadata": {},
   "outputs": [
    {
     "data": {
      "text/plain": [
       "'10'"
      ]
     },
     "execution_count": 14,
     "metadata": {},
     "output_type": "execute_result"
    }
   ],
   "source": [
    "if len(rank_data) == 1:\n",
    "    rank = rank_data[0]['class'][-1][-1]\n",
    "else:\n",
    "    rank = rank_data[0]['class'][-1][-1] + rank_data[1]['class'][-1][-1]\n",
    "rank"
   ]
  },
  {
   "cell_type": "code",
   "execution_count": 57,
   "metadata": {},
   "outputs": [
    {
     "data": {
      "text/plain": [
       "12"
      ]
     },
     "execution_count": 57,
     "metadata": {},
     "output_type": "execute_result"
    }
   ],
   "source": [
    "# Rank\n",
    "rank1 = li.select('.rankBtn_ctrl')[0]['class'][1][-1]\n",
    "rank2 = li.select('.rankBtn_ctrl')[1]['class'][1][-1]\n",
    "rank = int(rank1 + rank2)\n",
    "rank"
   ]
  },
  {
   "cell_type": "code",
   "execution_count": 60,
   "metadata": {},
   "outputs": [
    {
     "data": {
      "text/plain": [
       "[<span class=\"rankBtn_ctrl rkNum_M01\"></span>,\n",
       " <span class=\"rankBtn_ctrl rkNum_M02\"></span>]"
      ]
     },
     "execution_count": 60,
     "metadata": {},
     "output_type": "execute_result"
    }
   ],
   "source": [
    "rank3 = li.select('.rankBtn_ctrl')\n",
    "rank3"
   ]
  },
  {
   "cell_type": "code",
   "execution_count": 8,
   "metadata": {},
   "outputs": [
    {
     "data": {
      "text/plain": [
       "'도시와 그 불확실한 벽'"
      ]
     },
     "execution_count": 8,
     "metadata": {},
     "output_type": "execute_result"
    }
   ],
   "source": [
    "# 책 제목\n",
    "title = li.select_one('.itemName').get_text().strip()\n",
    "title"
   ]
  },
  {
   "cell_type": "code",
   "execution_count": 10,
   "metadata": {},
   "outputs": [
    {
     "data": {
      "text/plain": [
       "'무라카미 하루키(村上春樹)'"
      ]
     },
     "execution_count": 10,
     "metadata": {},
     "output_type": "execute_result"
    }
   ],
   "source": [
    "# 저자\n",
    "author = li.select_one('.author').get_text().strip()\n",
    "author"
   ]
  },
  {
   "cell_type": "code",
   "execution_count": 11,
   "metadata": {},
   "outputs": [
    {
     "data": {
      "text/plain": [
       "'문학동네'"
      ]
     },
     "execution_count": 11,
     "metadata": {},
     "output_type": "execute_result"
    }
   ],
   "source": [
    "# 출판사\n",
    "company = li.select_one('.company').get_text().strip()\n",
    "company"
   ]
  },
  {
   "cell_type": "code",
   "execution_count": 14,
   "metadata": {},
   "outputs": [
    {
     "data": {
      "text/plain": [
       "17550"
      ]
     },
     "execution_count": 14,
     "metadata": {},
     "output_type": "execute_result"
    }
   ],
   "source": [
    "# 가격\n",
    "price = li.select_one('.price > em').get_text().strip()\n",
    "price = int(price.replace(',', ''))\n",
    "price"
   ]
  },
  {
   "cell_type": "markdown",
   "metadata": {},
   "source": [
    "- Step 4) 반복문을 사용하여 페이지 내에 있는 데이터 가져오기"
   ]
  },
  {
   "cell_type": "code",
   "execution_count": 61,
   "metadata": {},
   "outputs": [],
   "source": [
    "data = []\n",
    "for li in lis:\n",
    "    rank = ''\n",
    "    for i in range(len(li.select('.rankBtn_ctrl'))):\n",
    "        rank += li.select('.rankBtn_ctrl')[i]['class'][1][-1]\n",
    "    rank = int(rank)\n",
    "    title = li.select_one('.itemName').get_text().strip()\n",
    "    author = li.select_one('.author').get_text().strip()\n",
    "    company = li.select_one('.company').get_text().strip()\n",
    "    price = li.select_one('.price > em').get_text().strip()\n",
    "    price = int(price.replace(',', ''))\n",
    "    data.append({'순위': rank, '제목':title, '저자':author, '출판사':company, '가격':price})"
   ]
  },
  {
   "cell_type": "code",
   "execution_count": 15,
   "metadata": {},
   "outputs": [],
   "source": [
    "data = []\n",
    "for li in lis:\n",
    "    rank_data = li.select('.rankBtn_ctrl')\n",
    "    if len(rank_data) == 1:\n",
    "        rank = int(rank_data[0]['class'][-1][-1])\n",
    "    else:\n",
    "        rank = int(rank_data[0]['class'][-1][-1] + rank_data[1]['class'][-1][-1])\n",
    "    title = li.select_one('.itemName').get_text().strip()\n",
    "    author = li.select_one('.author').get_text().strip()\n",
    "    company = li.select_one('.company').get_text().strip()\n",
    "    price = li.select_one('.price > em').get_text().strip()\n",
    "    price = int(price.replace(',', ''))\n",
    "    data.append({'순위': rank, '제목':title, '저자':author, '출판사':company, '가격':price})"
   ]
  },
  {
   "cell_type": "markdown",
   "metadata": {},
   "source": [
    "- Step 5)오류가 발생하면 오류를 해결하고 2, 3, 4과정을 반복"
   ]
  },
  {
   "cell_type": "markdown",
   "metadata": {},
   "source": [
    "- Step 6) 모든 페이지에 대해 반복하기"
   ]
  },
  {
   "cell_type": "markdown",
   "metadata": {},
   "source": [
    "- Step 7) 데이터프레임으로 만들기"
   ]
  },
  {
   "cell_type": "code",
   "execution_count": 16,
   "metadata": {},
   "outputs": [
    {
     "data": {
      "text/html": [
       "<div>\n",
       "<style scoped>\n",
       "    .dataframe tbody tr th:only-of-type {\n",
       "        vertical-align: middle;\n",
       "    }\n",
       "\n",
       "    .dataframe tbody tr th {\n",
       "        vertical-align: top;\n",
       "    }\n",
       "\n",
       "    .dataframe thead th {\n",
       "        text-align: right;\n",
       "    }\n",
       "</style>\n",
       "<table border=\"1\" class=\"dataframe\">\n",
       "  <thead>\n",
       "    <tr style=\"text-align: right;\">\n",
       "      <th></th>\n",
       "      <th>순위</th>\n",
       "      <th>제목</th>\n",
       "      <th>저자</th>\n",
       "      <th>출판사</th>\n",
       "      <th>가격</th>\n",
       "    </tr>\n",
       "  </thead>\n",
       "  <tbody>\n",
       "    <tr>\n",
       "      <th>0</th>\n",
       "      <td>1</td>\n",
       "      <td>디케의 눈물</td>\n",
       "      <td>조국</td>\n",
       "      <td>다산북스</td>\n",
       "      <td>16920</td>\n",
       "    </tr>\n",
       "    <tr>\n",
       "      <th>1</th>\n",
       "      <td>2</td>\n",
       "      <td>도시와 그 불확실한 벽</td>\n",
       "      <td>무라카미 하루키(村上春樹)</td>\n",
       "      <td>문학동네</td>\n",
       "      <td>17550</td>\n",
       "    </tr>\n",
       "    <tr>\n",
       "      <th>2</th>\n",
       "      <td>3</td>\n",
       "      <td>퓨처 셀프</td>\n",
       "      <td>벤저민 하디/최은아 역</td>\n",
       "      <td>상상스퀘어</td>\n",
       "      <td>17820</td>\n",
       "    </tr>\n",
       "    <tr>\n",
       "      <th>3</th>\n",
       "      <td>4</td>\n",
       "      <td>1%를 읽는 힘</td>\n",
       "      <td>메르</td>\n",
       "      <td>토네이도</td>\n",
       "      <td>19800</td>\n",
       "    </tr>\n",
       "    <tr>\n",
       "      <th>4</th>\n",
       "      <td>5</td>\n",
       "      <td>흔한남매 14</td>\n",
       "      <td>흔한남매, 백난도/유난희 그림/흔한컴퍼니 감수</td>\n",
       "      <td>미래엔아이세움</td>\n",
       "      <td>13050</td>\n",
       "    </tr>\n",
       "    <tr>\n",
       "      <th>5</th>\n",
       "      <td>6</td>\n",
       "      <td>일론 머스크</td>\n",
       "      <td>월터 아이작슨</td>\n",
       "      <td>21세기북스</td>\n",
       "      <td>34200</td>\n",
       "    </tr>\n",
       "    <tr>\n",
       "      <th>6</th>\n",
       "      <td>6</td>\n",
       "      <td>가짜 노동</td>\n",
       "      <td>데니스 뇌르마르크, 아네르스 포그 옌센/이수영 역</td>\n",
       "      <td>자음과모음</td>\n",
       "      <td>15120</td>\n",
       "    </tr>\n",
       "    <tr>\n",
       "      <th>7</th>\n",
       "      <td>8</td>\n",
       "      <td>세이노의 가르침</td>\n",
       "      <td>세이노</td>\n",
       "      <td>데이원</td>\n",
       "      <td>6480</td>\n",
       "    </tr>\n",
       "    <tr>\n",
       "      <th>8</th>\n",
       "      <td>9</td>\n",
       "      <td>트렌드 코리아 2024</td>\n",
       "      <td>김난도, 추예린, 전다현, 전미영, 최지혜</td>\n",
       "      <td>미래의창</td>\n",
       "      <td>17100</td>\n",
       "    </tr>\n",
       "    <tr>\n",
       "      <th>9</th>\n",
       "      <td>10</td>\n",
       "      <td>완전배출</td>\n",
       "      <td>조승우</td>\n",
       "      <td>사이몬북스</td>\n",
       "      <td>17100</td>\n",
       "    </tr>\n",
       "    <tr>\n",
       "      <th>10</th>\n",
       "      <td>10</td>\n",
       "      <td>쩐의 흐름을 타라</td>\n",
       "      <td></td>\n",
       "      <td>에디터</td>\n",
       "      <td>16200</td>\n",
       "    </tr>\n",
       "    <tr>\n",
       "      <th>11</th>\n",
       "      <td>12</td>\n",
       "      <td>딸이 조용히 무너져 있었다</td>\n",
       "      <td>김현아</td>\n",
       "      <td>창비</td>\n",
       "      <td>16200</td>\n",
       "    </tr>\n",
       "    <tr>\n",
       "      <th>12</th>\n",
       "      <td>12</td>\n",
       "      <td>래리 윌리엄스 좋은 주식은 때가 있다</td>\n",
       "      <td>래리 윌리엄스/김태훈 역/강환국 감수</td>\n",
       "      <td>페이지2북스</td>\n",
       "      <td>16200</td>\n",
       "    </tr>\n",
       "    <tr>\n",
       "      <th>13</th>\n",
       "      <td>14</td>\n",
       "      <td>슈퍼노멀</td>\n",
       "      <td>주언규</td>\n",
       "      <td>웅진지식하우스</td>\n",
       "      <td>17550</td>\n",
       "    </tr>\n",
       "    <tr>\n",
       "      <th>14</th>\n",
       "      <td>14</td>\n",
       "      <td>역행자(확장판)</td>\n",
       "      <td>자청</td>\n",
       "      <td>웅진지식하우스</td>\n",
       "      <td>17550</td>\n",
       "    </tr>\n",
       "  </tbody>\n",
       "</table>\n",
       "</div>"
      ],
      "text/plain": [
       "    순위                    제목                           저자      출판사     가격\n",
       "0    1                디케의 눈물                           조국     다산북스  16920\n",
       "1    2          도시와 그 불확실한 벽               무라카미 하루키(村上春樹)     문학동네  17550\n",
       "2    3                 퓨처 셀프                 벤저민 하디/최은아 역    상상스퀘어  17820\n",
       "3    4              1%를 읽는 힘                           메르     토네이도  19800\n",
       "4    5               흔한남매 14    흔한남매, 백난도/유난희 그림/흔한컴퍼니 감수  미래엔아이세움  13050\n",
       "5    6                일론 머스크                      월터 아이작슨   21세기북스  34200\n",
       "6    6                 가짜 노동  데니스 뇌르마르크, 아네르스 포그 옌센/이수영 역    자음과모음  15120\n",
       "7    8              세이노의 가르침                          세이노      데이원   6480\n",
       "8    9          트렌드 코리아 2024      김난도, 추예린, 전다현, 전미영, 최지혜     미래의창  17100\n",
       "9   10                  완전배출                          조승우    사이몬북스  17100\n",
       "10  10             쩐의 흐름을 타라                                   에디터  16200\n",
       "11  12        딸이 조용히 무너져 있었다                          김현아       창비  16200\n",
       "12  12  래리 윌리엄스 좋은 주식은 때가 있다         래리 윌리엄스/김태훈 역/강환국 감수   페이지2북스  16200\n",
       "13  14                  슈퍼노멀                          주언규  웅진지식하우스  17550\n",
       "14  14              역행자(확장판)                           자청  웅진지식하우스  17550"
      ]
     },
     "execution_count": 16,
     "metadata": {},
     "output_type": "execute_result"
    }
   ],
   "source": [
    "df = pd.DataFrame(data)\n",
    "df"
   ]
  },
  {
   "cell_type": "code",
   "execution_count": null,
   "metadata": {},
   "outputs": [],
   "source": []
  }
 ],
 "metadata": {
  "kernelspec": {
   "display_name": "base",
   "language": "python",
   "name": "python3"
  },
  "language_info": {
   "codemirror_mode": {
    "name": "ipython",
    "version": 3
   },
   "file_extension": ".py",
   "mimetype": "text/x-python",
   "name": "python",
   "nbconvert_exporter": "python",
   "pygments_lexer": "ipython3",
   "version": "3.11.4"
  },
  "orig_nbformat": 4
 },
 "nbformat": 4,
 "nbformat_minor": 2
}
