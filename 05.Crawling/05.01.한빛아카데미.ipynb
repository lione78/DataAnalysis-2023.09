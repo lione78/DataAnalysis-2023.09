{
 "cells": [
  {
   "cell_type": "code",
   "execution_count": 1,
   "metadata": {},
   "outputs": [],
   "source": [
    "import requests\n",
    "import pandas as pd\n",
    "from bs4 import BeautifulSoup"
   ]
  },
  {
   "cell_type": "code",
   "execution_count": 35,
   "metadata": {},
   "outputs": [],
   "source": [
    "base_url = 'https://www.hanbit.co.kr'\n",
    "sub_url = '/academy/books/new_book_list.html?page=1&cate_cd=&srt=&searchKey=&keyWord='\n",
    "url = f'{base_url}{sub_url}'\n",
    "res = requests.get(url)\n",
    "soup = BeautifulSoup(res.text, 'html.parser')"
   ]
  },
  {
   "cell_type": "code",
   "execution_count": 36,
   "metadata": {},
   "outputs": [
    {
     "data": {
      "text/plain": [
       "20"
      ]
     },
     "execution_count": 36,
     "metadata": {},
     "output_type": "execute_result"
    }
   ],
   "source": [
    "lis = soup.select('.sub_book_list')\n",
    "len(lis)"
   ]
  },
  {
   "cell_type": "code",
   "execution_count": 37,
   "metadata": {},
   "outputs": [],
   "source": [
    "li = lis[1]"
   ]
  },
  {
   "cell_type": "code",
   "execution_count": 38,
   "metadata": {},
   "outputs": [
    {
     "data": {
      "text/plain": [
       "'관리회계 연습문제 풀이집'"
      ]
     },
     "execution_count": 38,
     "metadata": {},
     "output_type": "execute_result"
    }
   ],
   "source": [
    "title = li.select_one('.book_tit').get_text().strip()\n",
    "title"
   ]
  },
  {
   "cell_type": "code",
   "execution_count": 12,
   "metadata": {},
   "outputs": [
    {
     "data": {
      "text/plain": [
       "'/academy/books/book_view.html?p_code=B3261280549'"
      ]
     },
     "execution_count": 12,
     "metadata": {},
     "output_type": "execute_result"
    }
   ],
   "source": [
    "book_href = li.select_one('.book_tit > a')['href']\n",
    "book_href"
   ]
  },
  {
   "cell_type": "code",
   "execution_count": 13,
   "metadata": {},
   "outputs": [
    {
     "data": {
      "text/plain": [
       "'https://www.hanbit.co.kr/academy/books/book_view.html?p_code=B3261280549'"
      ]
     },
     "execution_count": 13,
     "metadata": {},
     "output_type": "execute_result"
    }
   ],
   "source": [
    "sub_url = base_url + book_href\n",
    "sub_url"
   ]
  },
  {
   "cell_type": "code",
   "execution_count": 16,
   "metadata": {},
   "outputs": [],
   "source": [
    "sub_res = requests.get(sub_url)\n",
    "sub_soup = BeautifulSoup(sub_res.text, 'html.parser')"
   ]
  },
  {
   "cell_type": "code",
   "execution_count": 17,
   "metadata": {},
   "outputs": [
    {
     "data": {
      "text/plain": [
       "7"
      ]
     },
     "execution_count": 17,
     "metadata": {},
     "output_type": "execute_result"
    }
   ],
   "source": [
    "sub_lis = sub_soup.select('.info_list > li')\n",
    "len(sub_lis)"
   ]
  },
  {
   "cell_type": "code",
   "execution_count": 19,
   "metadata": {},
   "outputs": [
    {
     "data": {
      "text/plain": [
       "'저자 : James Jiambalvo'"
      ]
     },
     "execution_count": 19,
     "metadata": {},
     "output_type": "execute_result"
    }
   ],
   "source": [
    "author = sub_lis[0].get_text().strip()\n",
    "author"
   ]
  },
  {
   "cell_type": "code",
   "execution_count": 20,
   "metadata": {},
   "outputs": [
    {
     "data": {
      "text/plain": [
       "'번역 : 손성진'"
      ]
     },
     "execution_count": 20,
     "metadata": {},
     "output_type": "execute_result"
    }
   ],
   "source": [
    "# 없는게 있으므로 처리 필요\n",
    "translator = sub_lis[1].get_text().strip()\n",
    "translator"
   ]
  },
  {
   "cell_type": "code",
   "execution_count": 21,
   "metadata": {},
   "outputs": [
    {
     "data": {
      "text/plain": [
       "'출간 : 2023-09-01'"
      ]
     },
     "execution_count": 21,
     "metadata": {},
     "output_type": "execute_result"
    }
   ],
   "source": [
    "date = sub_lis[2].get_text().strip()\n",
    "date"
   ]
  },
  {
   "cell_type": "code",
   "execution_count": 23,
   "metadata": {},
   "outputs": [
    {
     "data": {
      "text/plain": [
       "'페이지 : 572 쪽'"
      ]
     },
     "execution_count": 23,
     "metadata": {},
     "output_type": "execute_result"
    }
   ],
   "source": [
    "page = sub_lis[3].get_text().strip()\n",
    "page"
   ]
  },
  {
   "cell_type": "code",
   "execution_count": 27,
   "metadata": {},
   "outputs": [
    {
     "data": {
      "text/plain": [
       "36000"
      ]
     },
     "execution_count": 27,
     "metadata": {},
     "output_type": "execute_result"
    }
   ],
   "source": [
    "price = int(sub_soup.select_one('.pbr > strong').string.replace(',', ''))\n",
    "price"
   ]
  },
  {
   "cell_type": "code",
   "execution_count": 25,
   "metadata": {},
   "outputs": [
    {
     "data": {
      "text/plain": [
       "{'저자': 'James Jiambalvo',\n",
       " '번역': '손성진',\n",
       " '출간': '2023-09-01',\n",
       " '페이지': '572 쪽',\n",
       " 'ISBN': '9791156646761',\n",
       " '물류코드': '4676',\n",
       " '': '초급'}"
      ]
     },
     "execution_count": 25,
     "metadata": {},
     "output_type": "execute_result"
    }
   ],
   "source": [
    "sub_list = []\n",
    "sub_dict = {}\n",
    "for sub_li in sub_lis:\n",
    "    key = sub_li.select_one('strong').get_text().strip()\n",
    "    value = sub_li.select_one('span').get_text().strip()\n",
    "    sub_dict[key[:-2]] = value\n",
    "sub_dict"
   ]
  },
  {
   "cell_type": "code",
   "execution_count": 41,
   "metadata": {},
   "outputs": [],
   "source": [
    "from tqdm import tqdm"
   ]
  },
  {
   "cell_type": "code",
   "execution_count": 48,
   "metadata": {},
   "outputs": [
    {
     "name": "stderr",
     "output_type": "stream",
     "text": [
      "100%|██████████| 23/23 [02:00<00:00,  5.26s/it]\n"
     ]
    }
   ],
   "source": [
    "base_url = 'https://www.hanbit.co.kr'\n",
    "\n",
    "data = []\n",
    "for page in tqdm(range(1, 24)):\n",
    "    sub_url = f'/academy/books/new_book_list.html?page={page}&cate_cd=&srt=&searchKey=&keyWord='\n",
    "    url = f'{base_url}{sub_url}'\n",
    "    res = requests.get(url)\n",
    "    soup = BeautifulSoup(res.text, 'html.parser')\n",
    "    lis = soup.select('.sub_book_list')\n",
    "    for li in lis:\n",
    "        title = li.select_one('.book_tit').get_text().strip()\n",
    "        price = int(sub_soup.select_one('.pbr > strong').string.replace(',', ''))\n",
    "        book_href = li.select_one('.book_tit > a')['href']\n",
    "        sub_url = base_url + book_href\n",
    "        sub_res = requests.get(sub_url)\n",
    "        sub_soup = BeautifulSoup(sub_res.text, 'html.parser')\n",
    "        sub_lis = sub_soup.select('.info_list > li')\n",
    "        sub_dict = {}       # sub_lis로 들어가면 sub_dict 초기화 안됨. 여러개가 연속적으로 찍힘.\n",
    "        # sub_dict이 다 만들어지고 나서 정보를 빼내 와야 함.\n",
    "        for sub_li in sub_lis:\n",
    "            key = sub_li.select_one('strong').get_text().strip()\n",
    "            value = sub_li.select_one('span').get_text().strip()\n",
    "            sub_dict[key[:-2]] = value\n",
    "        author = sub_dict['저자']\n",
    "        translator = sub_dict['번역'] if sub_dict.keys() == '번역' else ' '\n",
    "        date = sub_dict['출간']\n",
    "        page = int(sub_dict['페이지'].split()[0])\n",
    "        book_dict = {'제목': title, '저자' : author, '번역' : translator, '출간일' : date, '페이지' : page, '가격' : price}\n",
    "        data.append(book_dict)"
   ]
  },
  {
   "cell_type": "code",
   "execution_count": 50,
   "metadata": {},
   "outputs": [
    {
     "data": {
      "text/html": [
       "<div>\n",
       "<style scoped>\n",
       "    .dataframe tbody tr th:only-of-type {\n",
       "        vertical-align: middle;\n",
       "    }\n",
       "\n",
       "    .dataframe tbody tr th {\n",
       "        vertical-align: top;\n",
       "    }\n",
       "\n",
       "    .dataframe thead th {\n",
       "        text-align: right;\n",
       "    }\n",
       "</style>\n",
       "<table border=\"1\" class=\"dataframe\">\n",
       "  <thead>\n",
       "    <tr style=\"text-align: right;\">\n",
       "      <th></th>\n",
       "      <th>제목</th>\n",
       "      <th>저자</th>\n",
       "      <th>번역</th>\n",
       "      <th>출간일</th>\n",
       "      <th>페이지</th>\n",
       "      <th>가격</th>\n",
       "    </tr>\n",
       "  </thead>\n",
       "  <tbody>\n",
       "    <tr>\n",
       "      <th>0</th>\n",
       "      <td>관리회계 7판</td>\n",
       "      <td>James Jiambalvo</td>\n",
       "      <td></td>\n",
       "      <td>2023-09-01</td>\n",
       "      <td>572</td>\n",
       "      <td>36000</td>\n",
       "    </tr>\n",
       "    <tr>\n",
       "      <th>1</th>\n",
       "      <td>관리회계 연습문제 풀이집</td>\n",
       "      <td>손성진</td>\n",
       "      <td></td>\n",
       "      <td>2023-09-01</td>\n",
       "      <td>272</td>\n",
       "      <td>36000</td>\n",
       "    </tr>\n",
       "    <tr>\n",
       "      <th>2</th>\n",
       "      <td>IT CookBook, 정보보안 이론과 실제(3판)</td>\n",
       "      <td>Mark Stamp</td>\n",
       "      <td></td>\n",
       "      <td>2023-08-25</td>\n",
       "      <td>464</td>\n",
       "      <td>11700</td>\n",
       "    </tr>\n",
       "    <tr>\n",
       "      <th>3</th>\n",
       "      <td>패널데이터와 복합표본을 활용한 한번에 적용하는 의학보건통계</td>\n",
       "      <td>히든그레이스 데이터분석팀</td>\n",
       "      <td></td>\n",
       "      <td>2023-08-18</td>\n",
       "      <td>468</td>\n",
       "      <td>32000</td>\n",
       "    </tr>\n",
       "    <tr>\n",
       "      <th>4</th>\n",
       "      <td>IT CookBook, HTML5 웹 프로그래밍 입문(4판)</td>\n",
       "      <td>윤인성</td>\n",
       "      <td></td>\n",
       "      <td>2023-08-05</td>\n",
       "      <td>500</td>\n",
       "      <td>34000</td>\n",
       "    </tr>\n",
       "    <tr>\n",
       "      <th>5</th>\n",
       "      <td>STEM CookBook, 경영경제수학 첫걸음</td>\n",
       "      <td>김진한 , 이재원</td>\n",
       "      <td></td>\n",
       "      <td>2023-07-31</td>\n",
       "      <td>476</td>\n",
       "      <td>29000</td>\n",
       "    </tr>\n",
       "    <tr>\n",
       "      <th>6</th>\n",
       "      <td>논리력을 키우는 영어 글쓰기</td>\n",
       "      <td>이요안</td>\n",
       "      <td></td>\n",
       "      <td>2023-07-28</td>\n",
       "      <td>248</td>\n",
       "      <td>26000</td>\n",
       "    </tr>\n",
       "    <tr>\n",
       "      <th>7</th>\n",
       "      <td>IT CookBook, 난생처음 데이터 분석 with 파이썬</td>\n",
       "      <td>김규석 , 김주희 , 이준</td>\n",
       "      <td></td>\n",
       "      <td>2023-07-24</td>\n",
       "      <td>512</td>\n",
       "      <td>20000</td>\n",
       "    </tr>\n",
       "    <tr>\n",
       "      <th>8</th>\n",
       "      <td>UML다이어그램을 활용한 소프트웨어 창의 설계</td>\n",
       "      <td>박현석 , 김연정 , 김연우 , 지현진</td>\n",
       "      <td></td>\n",
       "      <td>2023-07-13</td>\n",
       "      <td>352</td>\n",
       "      <td>26000</td>\n",
       "    </tr>\n",
       "    <tr>\n",
       "      <th>9</th>\n",
       "      <td>IT CookBook, C 언어 자료구조와 알고리즘 for Beginner</td>\n",
       "      <td>우재남</td>\n",
       "      <td></td>\n",
       "      <td>2023-07-10</td>\n",
       "      <td>536</td>\n",
       "      <td>24000</td>\n",
       "    </tr>\n",
       "    <tr>\n",
       "      <th>10</th>\n",
       "      <td>STEM CookBook, 문제 해결력을 키우는 유체역학</td>\n",
       "      <td>노형운</td>\n",
       "      <td></td>\n",
       "      <td>2023-07-10</td>\n",
       "      <td>728</td>\n",
       "      <td>29000</td>\n",
       "    </tr>\n",
       "    <tr>\n",
       "      <th>11</th>\n",
       "      <td>올인원 스프링 프레임워크</td>\n",
       "      <td>김명호</td>\n",
       "      <td></td>\n",
       "      <td>2023-07-10</td>\n",
       "      <td>628</td>\n",
       "      <td>33000</td>\n",
       "    </tr>\n",
       "    <tr>\n",
       "      <th>12</th>\n",
       "      <td>STEM CookBook, TAO 해석학 Ⅰ(4판)</td>\n",
       "      <td>Terence Tao</td>\n",
       "      <td></td>\n",
       "      <td>2023-07-09</td>\n",
       "      <td>420</td>\n",
       "      <td>30000</td>\n",
       "    </tr>\n",
       "    <tr>\n",
       "      <th>13</th>\n",
       "      <td>IT CookBook, 난생처음 앱 인벤터</td>\n",
       "      <td>이종원</td>\n",
       "      <td></td>\n",
       "      <td>2023-06-30</td>\n",
       "      <td>476</td>\n",
       "      <td>28000</td>\n",
       "    </tr>\n",
       "    <tr>\n",
       "      <th>14</th>\n",
       "      <td>IT CookBook, 난생처음 자바 프로그래밍</td>\n",
       "      <td>우재남</td>\n",
       "      <td></td>\n",
       "      <td>2023-06-30</td>\n",
       "      <td>568</td>\n",
       "      <td>26000</td>\n",
       "    </tr>\n",
       "    <tr>\n",
       "      <th>15</th>\n",
       "      <td>STEM CookBook, 확률과 통계 입문(2판)</td>\n",
       "      <td>이재원</td>\n",
       "      <td></td>\n",
       "      <td>2023-06-30</td>\n",
       "      <td>500</td>\n",
       "      <td>29000</td>\n",
       "    </tr>\n",
       "    <tr>\n",
       "      <th>16</th>\n",
       "      <td>경영경제 통계학 노트</td>\n",
       "      <td>장혜정 , 김현우</td>\n",
       "      <td></td>\n",
       "      <td>2023-06-30</td>\n",
       "      <td>424</td>\n",
       "      <td>25000</td>\n",
       "    </tr>\n",
       "    <tr>\n",
       "      <th>17</th>\n",
       "      <td>IT CookBook, 원리가 보이는 파이썬 빅데이터 분석 기초와 실습</td>\n",
       "      <td>천세학</td>\n",
       "      <td></td>\n",
       "      <td>2023-06-25</td>\n",
       "      <td>448</td>\n",
       "      <td>26000</td>\n",
       "    </tr>\n",
       "    <tr>\n",
       "      <th>18</th>\n",
       "      <td>IT CookBook, Verilog HDL 설계</td>\n",
       "      <td>신경욱</td>\n",
       "      <td></td>\n",
       "      <td>2023-06-23</td>\n",
       "      <td>584</td>\n",
       "      <td>28000</td>\n",
       "    </tr>\n",
       "    <tr>\n",
       "      <th>19</th>\n",
       "      <td>미분기하학 바이블(2판)</td>\n",
       "      <td>Manfredo P. do Carmo</td>\n",
       "      <td></td>\n",
       "      <td>2023-06-09</td>\n",
       "      <td>532</td>\n",
       "      <td>36000</td>\n",
       "    </tr>\n",
       "    <tr>\n",
       "      <th>20</th>\n",
       "      <td>알기 쉬운 회계원리 기초(4판)</td>\n",
       "      <td>김혁 , 윤승준</td>\n",
       "      <td></td>\n",
       "      <td>2023-06-05</td>\n",
       "      <td>408</td>\n",
       "      <td>35000</td>\n",
       "    </tr>\n",
       "    <tr>\n",
       "      <th>21</th>\n",
       "      <td>IT CookBook, 모두를 위한 R 데이터 분석 입문(2판)</td>\n",
       "      <td>오세종</td>\n",
       "      <td></td>\n",
       "      <td>2023-05-05</td>\n",
       "      <td>584</td>\n",
       "      <td>28000</td>\n",
       "    </tr>\n",
       "    <tr>\n",
       "      <th>22</th>\n",
       "      <td>처음 배우는 매트랩</td>\n",
       "      <td>방성완</td>\n",
       "      <td></td>\n",
       "      <td>2023-04-10</td>\n",
       "      <td>416</td>\n",
       "      <td>29000</td>\n",
       "    </tr>\n",
       "    <tr>\n",
       "      <th>23</th>\n",
       "      <td>SAS와 메타분석을 활용한 한번에 적용하는 의학보건통계</td>\n",
       "      <td>히든그레이스 데이터분석팀</td>\n",
       "      <td></td>\n",
       "      <td>2023-03-09</td>\n",
       "      <td>516</td>\n",
       "      <td>30000</td>\n",
       "    </tr>\n",
       "    <tr>\n",
       "      <th>24</th>\n",
       "      <td>정보교과교육론(3판)</td>\n",
       "      <td>최현종 , 전용주</td>\n",
       "      <td></td>\n",
       "      <td>2023-03-01</td>\n",
       "      <td>488</td>\n",
       "      <td>34000</td>\n",
       "    </tr>\n",
       "  </tbody>\n",
       "</table>\n",
       "</div>"
      ],
      "text/plain": [
       "                                           제목                     저자 번역  \\\n",
       "0                                     관리회계 7판        James Jiambalvo      \n",
       "1                               관리회계 연습문제 풀이집                    손성진      \n",
       "2                IT CookBook, 정보보안 이론과 실제(3판)             Mark Stamp      \n",
       "3            패널데이터와 복합표본을 활용한 한번에 적용하는 의학보건통계          히든그레이스 데이터분석팀      \n",
       "4           IT CookBook, HTML5 웹 프로그래밍 입문(4판)                    윤인성      \n",
       "5                   STEM CookBook, 경영경제수학 첫걸음              김진한 , 이재원      \n",
       "6                             논리력을 키우는 영어 글쓰기                    이요안      \n",
       "7           IT CookBook, 난생처음 데이터 분석 with 파이썬         김규석 , 김주희 , 이준      \n",
       "8                   UML다이어그램을 활용한 소프트웨어 창의 설계  박현석 , 김연정 , 김연우 , 지현진      \n",
       "9   IT CookBook, C 언어 자료구조와 알고리즘 for Beginner                    우재남      \n",
       "10            STEM CookBook, 문제 해결력을 키우는 유체역학                    노형운      \n",
       "11                              올인원 스프링 프레임워크                    김명호      \n",
       "12               STEM CookBook, TAO 해석학 Ⅰ(4판)            Terence Tao      \n",
       "13                    IT CookBook, 난생처음 앱 인벤터                    이종원      \n",
       "14                 IT CookBook, 난생처음 자바 프로그래밍                    우재남      \n",
       "15               STEM CookBook, 확률과 통계 입문(2판)                    이재원      \n",
       "16                                경영경제 통계학 노트              장혜정 , 김현우      \n",
       "17    IT CookBook, 원리가 보이는 파이썬 빅데이터 분석 기초와 실습                    천세학      \n",
       "18                IT CookBook, Verilog HDL 설계                    신경욱      \n",
       "19                              미분기하학 바이블(2판)   Manfredo P. do Carmo      \n",
       "20                          알기 쉬운 회계원리 기초(4판)               김혁 , 윤승준      \n",
       "21        IT CookBook, 모두를 위한 R 데이터 분석 입문(2판)                    오세종      \n",
       "22                                 처음 배우는 매트랩                    방성완      \n",
       "23             SAS와 메타분석을 활용한 한번에 적용하는 의학보건통계          히든그레이스 데이터분석팀      \n",
       "24                                정보교과교육론(3판)              최현종 , 전용주      \n",
       "\n",
       "           출간일  페이지     가격  \n",
       "0   2023-09-01  572  36000  \n",
       "1   2023-09-01  272  36000  \n",
       "2   2023-08-25  464  11700  \n",
       "3   2023-08-18  468  32000  \n",
       "4   2023-08-05  500  34000  \n",
       "5   2023-07-31  476  29000  \n",
       "6   2023-07-28  248  26000  \n",
       "7   2023-07-24  512  20000  \n",
       "8   2023-07-13  352  26000  \n",
       "9   2023-07-10  536  24000  \n",
       "10  2023-07-10  728  29000  \n",
       "11  2023-07-10  628  33000  \n",
       "12  2023-07-09  420  30000  \n",
       "13  2023-06-30  476  28000  \n",
       "14  2023-06-30  568  26000  \n",
       "15  2023-06-30  500  29000  \n",
       "16  2023-06-30  424  25000  \n",
       "17  2023-06-25  448  26000  \n",
       "18  2023-06-23  584  28000  \n",
       "19  2023-06-09  532  36000  \n",
       "20  2023-06-05  408  35000  \n",
       "21  2023-05-05  584  28000  \n",
       "22  2023-04-10  416  29000  \n",
       "23  2023-03-09  516  30000  \n",
       "24  2023-03-01  488  34000  "
      ]
     },
     "execution_count": 50,
     "metadata": {},
     "output_type": "execute_result"
    }
   ],
   "source": [
    "df = pd.DataFrame(data)\n",
    "df.head(25)"
   ]
  },
  {
   "cell_type": "code",
   "execution_count": null,
   "metadata": {},
   "outputs": [],
   "source": []
  }
 ],
 "metadata": {
  "kernelspec": {
   "display_name": "base",
   "language": "python",
   "name": "python3"
  },
  "language_info": {
   "codemirror_mode": {
    "name": "ipython",
    "version": 3
   },
   "file_extension": ".py",
   "mimetype": "text/x-python",
   "name": "python",
   "nbconvert_exporter": "python",
   "pygments_lexer": "ipython3",
   "version": "3.11.4"
  },
  "orig_nbformat": 4
 },
 "nbformat": 4,
 "nbformat_minor": 2
}
