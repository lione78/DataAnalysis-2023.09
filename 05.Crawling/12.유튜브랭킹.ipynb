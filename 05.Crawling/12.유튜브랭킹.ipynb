{
 "cells": [
  {
   "cell_type": "markdown",
   "metadata": {},
   "source": [
    "## YouTube Ranking"
   ]
  },
  {
   "cell_type": "code",
   "execution_count": 2,
   "metadata": {},
   "outputs": [],
   "source": [
    "import requests, time\n",
    "import pandas as pd\n",
    "from bs4 import BeautifulSoup\n",
    "from selenium import webdriver"
   ]
  },
  {
   "cell_type": "markdown",
   "metadata": {},
   "source": [
    "- Step 1, 2"
   ]
  },
  {
   "cell_type": "code",
   "execution_count": 3,
   "metadata": {},
   "outputs": [],
   "source": [
    "url = 'https://youtube-rank.com/board/bbs/board.php?bo_table=youtube&page=1'\n",
    "res = requests.get(url)\n",
    "soup = BeautifulSoup(res.text, 'html.parser')"
   ]
  },
  {
   "cell_type": "code",
   "execution_count": 4,
   "metadata": {},
   "outputs": [
    {
     "data": {
      "text/plain": [
       "0"
      ]
     },
     "execution_count": 4,
     "metadata": {},
     "output_type": "execute_result"
    }
   ],
   "source": [
    "trs = soup.select('tr.aos-init')\n",
    "len(trs)"
   ]
  },
  {
   "cell_type": "code",
   "execution_count": 5,
   "metadata": {},
   "outputs": [],
   "source": [
    "driver = webdriver.Chrome()\n",
    "driver.get(url)"
   ]
  },
  {
   "cell_type": "code",
   "execution_count": 6,
   "metadata": {},
   "outputs": [
    {
     "data": {
      "text/plain": [
       "100"
      ]
     },
     "execution_count": 6,
     "metadata": {},
     "output_type": "execute_result"
    }
   ],
   "source": [
    "soup = BeautifulSoup(driver.page_source, 'html.parser')\n",
    "trs = soup.select('tr.aos-init')\n",
    "len(trs)"
   ]
  },
  {
   "cell_type": "markdown",
   "metadata": {},
   "source": [
    "- Step 3"
   ]
  },
  {
   "cell_type": "code",
   "execution_count": 7,
   "metadata": {},
   "outputs": [
    {
     "data": {
      "text/plain": [
       "'1'"
      ]
     },
     "execution_count": 7,
     "metadata": {},
     "output_type": "execute_result"
    }
   ],
   "source": [
    "tr = trs[0]\n",
    "rank = tr.select_one('.rank').get_text().strip()\n",
    "rank"
   ]
  },
  {
   "cell_type": "code",
   "execution_count": 10,
   "metadata": {},
   "outputs": [
    {
     "data": {
      "text/plain": [
       "'음악/댄스/가수'"
      ]
     },
     "execution_count": 10,
     "metadata": {},
     "output_type": "execute_result"
    }
   ],
   "source": [
    "category = tr.select_one('.category').get_text().strip()[1:-1]        # [음악/댄스/가수]\n",
    "category"
   ]
  },
  {
   "cell_type": "code",
   "execution_count": 11,
   "metadata": {},
   "outputs": [
    {
     "data": {
      "text/plain": [
       "'BLACKPINK'"
      ]
     },
     "execution_count": 11,
     "metadata": {},
     "output_type": "execute_result"
    }
   ],
   "source": [
    "channel = tr.select_one('.subject > h1 > a').get_text().strip()\n",
    "channel"
   ]
  },
  {
   "cell_type": "code",
   "execution_count": 12,
   "metadata": {},
   "outputs": [
    {
     "data": {
      "text/plain": [
       "'9130만'"
      ]
     },
     "execution_count": 12,
     "metadata": {},
     "output_type": "execute_result"
    }
   ],
   "source": [
    "subscriber = tr.select_one('.subscriber_cnt').get_text().strip()\n",
    "subscriber"
   ]
  },
  {
   "cell_type": "code",
   "execution_count": 31,
   "metadata": {},
   "outputs": [
    {
     "data": {
      "text/plain": [
       "('213억4892만', '2,330개')"
      ]
     },
     "execution_count": 31,
     "metadata": {},
     "output_type": "execute_result"
    }
   ],
   "source": [
    "view = tr.select_one('.view_cnt').get_text().strip()\n",
    "video = tr.select_one('.video_cnt').get_text().strip()\n",
    "view, video"
   ]
  },
  {
   "cell_type": "code",
   "execution_count": 32,
   "metadata": {},
   "outputs": [],
   "source": [
    "# 숫자로 바꿔주는 함수 / '비공' 존재\n",
    "def convert(s):\n",
    "    s = s.replace('억','').replace('개', '').replace(',', '').replace('만', '0000')\n",
    "    return int(s)"
   ]
  },
  {
   "cell_type": "code",
   "execution_count": 33,
   "metadata": {},
   "outputs": [
    {
     "data": {
      "text/plain": [
       "21348920000"
      ]
     },
     "execution_count": 33,
     "metadata": {},
     "output_type": "execute_result"
    }
   ],
   "source": [
    "convert(view)"
   ]
  },
  {
   "cell_type": "markdown",
   "metadata": {},
   "source": [
    "- Step 4"
   ]
  },
  {
   "cell_type": "code",
   "execution_count": 34,
   "metadata": {},
   "outputs": [],
   "source": [
    "data = []\n",
    "for tr in trs:\n",
    "    rank = int(tr.select_one('.rank').get_text().strip())\n",
    "    category = tr.select_one('.category').get_text().strip()[1:-1]\n",
    "    channel = tr.select_one('.subject > h1 > a').get_text().strip()\n",
    "    subscriber = convert(tr.select_one('.subscriber_cnt').get_text().strip())\n",
    "    view = convert(tr.select_one('.view_cnt').get_text().strip())\n",
    "    video = convert(tr.select_one('.video_cnt').get_text().strip())\n",
    "    data.append({'순위': rank, '채널명': channel, '카테고리': category,\n",
    "                 '구독자수': subscriber, '조회수': view, '비디오수': video})"
   ]
  },
  {
   "cell_type": "markdown",
   "metadata": {},
   "source": [
    "- Step 5. 에러 수정"
   ]
  },
  {
   "cell_type": "code",
   "execution_count": 21,
   "metadata": {},
   "outputs": [
    {
     "name": "stdout",
     "output_type": "stream",
     "text": [
      "2\n"
     ]
    }
   ],
   "source": [
    "try:\n",
    "    for index, tr in enumerate(trs):\n",
    "        rank = int(tr.select_one('.rank').get_text().strip())\n",
    "        category = tr.select_one('.category').get_text().strip()[1:-1]\n",
    "        channel = tr.select_one('.subject > h1 > a').get_text().strip()\n",
    "        subscriber = convert(tr.select_one('.subscriber_cnt').get_text().strip())\n",
    "        view = convert(tr.select_one('.view_cnt').get_text().strip())\n",
    "        video = convert(tr.select_one('.video_cnt').get_text().strip())\n",
    "except:\n",
    "    print(index + 1)        # 순위가 출력되게"
   ]
  },
  {
   "cell_type": "code",
   "execution_count": 35,
   "metadata": {},
   "outputs": [],
   "source": [
    "data = []\n",
    "for tr in trs:\n",
    "    rank = int(tr.select_one('.rank').get_text().strip())\n",
    "    category = tr.select_one('.category').get_text().strip()[1:-1]\n",
    "    channel = tr.select_one('.subject > h1 > a').get_text().strip()\n",
    "    subscriber = convert(tr.select_one('.subscriber_cnt').get_text().strip())\n",
    "    view = convert(tr.select_one('.view_cnt').get_text().strip())\n",
    "    video = convert(tr.select_one('.video_cnt').get_text().strip())\n",
    "    data.append({'순위': rank, '채널명': channel, '카테고리': category,\n",
    "                 '구독자수': subscriber, '조회수': view, '비디오수': video})"
   ]
  },
  {
   "cell_type": "markdown",
   "metadata": {},
   "source": [
    "- Step 6"
   ]
  },
  {
   "cell_type": "code",
   "execution_count": 37,
   "metadata": {},
   "outputs": [],
   "source": [
    "data = []\n",
    "for page in range(1, 11):\n",
    "    url = f'https://youtube-rank.com/board/bbs/board.php?bo_table=youtube&page={page}'\n",
    "    driver.get(url)\n",
    "    time.sleep(2)\n",
    "    soup = BeautifulSoup(driver.page_source, 'html.parser')\n",
    "    trs = soup.select('tr.aos-init')\n",
    "\n",
    "    for tr in trs:\n",
    "        rank = int(tr.select_one('.rank').get_text().strip())\n",
    "        category = tr.select_one('.category').get_text().strip()[1:-1]\n",
    "        channel = tr.select_one('.subject > h1 > a').get_text().strip()\n",
    "        subscriber = convert(tr.select_one('.subscriber_cnt').get_text().strip())\n",
    "        view = convert(tr.select_one('.view_cnt').get_text().strip())\n",
    "        video = convert(tr.select_one('.video_cnt').get_text().strip())\n",
    "        data.append({'순위': rank, '채널명': channel, '카테고리': category,\n",
    "                    '구독자수': subscriber, '조회수': view, '비디오수': video})\n",
    "    \n",
    "driver.close()"
   ]
  },
  {
   "cell_type": "markdown",
   "metadata": {},
   "source": [
    "- Step 7"
   ]
  },
  {
   "cell_type": "code",
   "execution_count": 39,
   "metadata": {},
   "outputs": [
    {
     "data": {
      "text/html": [
       "<div>\n",
       "<style scoped>\n",
       "    .dataframe tbody tr th:only-of-type {\n",
       "        vertical-align: middle;\n",
       "    }\n",
       "\n",
       "    .dataframe tbody tr th {\n",
       "        vertical-align: top;\n",
       "    }\n",
       "\n",
       "    .dataframe thead th {\n",
       "        text-align: right;\n",
       "    }\n",
       "</style>\n",
       "<table border=\"1\" class=\"dataframe\">\n",
       "  <thead>\n",
       "    <tr style=\"text-align: right;\">\n",
       "      <th></th>\n",
       "      <th>순위</th>\n",
       "      <th>채널명</th>\n",
       "      <th>카테고리</th>\n",
       "      <th>구독자수</th>\n",
       "      <th>조회수</th>\n",
       "      <th>비디오수</th>\n",
       "    </tr>\n",
       "  </thead>\n",
       "  <tbody>\n",
       "    <tr>\n",
       "      <th>0</th>\n",
       "      <td>1</td>\n",
       "      <td>BLACKPINK</td>\n",
       "      <td>음악/댄스/가수</td>\n",
       "      <td>91300000</td>\n",
       "      <td>33206830000</td>\n",
       "      <td>567</td>\n",
       "    </tr>\n",
       "    <tr>\n",
       "      <th>1</th>\n",
       "      <td>2</td>\n",
       "      <td>BANGTANTV</td>\n",
       "      <td>음악/댄스/가수</td>\n",
       "      <td>76400000</td>\n",
       "      <td>21348920000</td>\n",
       "      <td>2330</td>\n",
       "    </tr>\n",
       "    <tr>\n",
       "      <th>2</th>\n",
       "      <td>3</td>\n",
       "      <td>HYBE LABELS</td>\n",
       "      <td>음악/댄스/가수</td>\n",
       "      <td>72700000</td>\n",
       "      <td>29979900000</td>\n",
       "      <td>1428</td>\n",
       "    </tr>\n",
       "    <tr>\n",
       "      <th>3</th>\n",
       "      <td>4</td>\n",
       "      <td>SMTOWN</td>\n",
       "      <td>음악/댄스/가수</td>\n",
       "      <td>32100000</td>\n",
       "      <td>27856680000</td>\n",
       "      <td>4227</td>\n",
       "    </tr>\n",
       "    <tr>\n",
       "      <th>4</th>\n",
       "      <td>5</td>\n",
       "      <td>JYP Entertainment</td>\n",
       "      <td>음악/댄스/가수</td>\n",
       "      <td>27800000</td>\n",
       "      <td>20510660000</td>\n",
       "      <td>1833</td>\n",
       "    </tr>\n",
       "  </tbody>\n",
       "</table>\n",
       "</div>"
      ],
      "text/plain": [
       "   순위                채널명      카테고리      구독자수          조회수  비디오수\n",
       "0   1          BLACKPINK  음악/댄스/가수  91300000  33206830000   567\n",
       "1   2          BANGTANTV  음악/댄스/가수  76400000  21348920000  2330\n",
       "2   3        HYBE LABELS  음악/댄스/가수  72700000  29979900000  1428\n",
       "3   4             SMTOWN  음악/댄스/가수  32100000  27856680000  4227\n",
       "4   5  JYP Entertainment  음악/댄스/가수  27800000  20510660000  1833"
      ]
     },
     "execution_count": 39,
     "metadata": {},
     "output_type": "execute_result"
    }
   ],
   "source": [
    "df = pd.DataFrame(data)\n",
    "df.head()"
   ]
  },
  {
   "cell_type": "code",
   "execution_count": 41,
   "metadata": {},
   "outputs": [
    {
     "data": {
      "text/html": [
       "<div>\n",
       "<style scoped>\n",
       "    .dataframe tbody tr th:only-of-type {\n",
       "        vertical-align: middle;\n",
       "    }\n",
       "\n",
       "    .dataframe tbody tr th {\n",
       "        vertical-align: top;\n",
       "    }\n",
       "\n",
       "    .dataframe thead th {\n",
       "        text-align: right;\n",
       "    }\n",
       "</style>\n",
       "<table border=\"1\" class=\"dataframe\">\n",
       "  <thead>\n",
       "    <tr style=\"text-align: right;\">\n",
       "      <th></th>\n",
       "      <th>순위</th>\n",
       "      <th>채널명</th>\n",
       "      <th>카테고리</th>\n",
       "      <th>구독자수</th>\n",
       "      <th>조회수</th>\n",
       "      <th>비디오수</th>\n",
       "    </tr>\n",
       "  </thead>\n",
       "  <tbody>\n",
       "    <tr>\n",
       "      <th>0</th>\n",
       "      <td>1</td>\n",
       "      <td>BLACKPINK</td>\n",
       "      <td>음악/댄스/가수</td>\n",
       "      <td>91300000</td>\n",
       "      <td>33206830000</td>\n",
       "      <td>567</td>\n",
       "    </tr>\n",
       "    <tr>\n",
       "      <th>1</th>\n",
       "      <td>2</td>\n",
       "      <td>BANGTANTV</td>\n",
       "      <td>음악/댄스/가수</td>\n",
       "      <td>76400000</td>\n",
       "      <td>21348920000</td>\n",
       "      <td>2330</td>\n",
       "    </tr>\n",
       "    <tr>\n",
       "      <th>2</th>\n",
       "      <td>3</td>\n",
       "      <td>HYBE LABELS</td>\n",
       "      <td>음악/댄스/가수</td>\n",
       "      <td>72700000</td>\n",
       "      <td>29979900000</td>\n",
       "      <td>1428</td>\n",
       "    </tr>\n",
       "    <tr>\n",
       "      <th>3</th>\n",
       "      <td>4</td>\n",
       "      <td>SMTOWN</td>\n",
       "      <td>음악/댄스/가수</td>\n",
       "      <td>32100000</td>\n",
       "      <td>27856680000</td>\n",
       "      <td>4227</td>\n",
       "    </tr>\n",
       "    <tr>\n",
       "      <th>4</th>\n",
       "      <td>5</td>\n",
       "      <td>JYP Entertainment</td>\n",
       "      <td>음악/댄스/가수</td>\n",
       "      <td>27800000</td>\n",
       "      <td>20510660000</td>\n",
       "      <td>1833</td>\n",
       "    </tr>\n",
       "  </tbody>\n",
       "</table>\n",
       "</div>"
      ],
      "text/plain": [
       "   순위                채널명      카테고리      구독자수          조회수  비디오수\n",
       "0   1          BLACKPINK  음악/댄스/가수  91300000  33206830000   567\n",
       "1   2          BANGTANTV  음악/댄스/가수  76400000  21348920000  2330\n",
       "2   3        HYBE LABELS  음악/댄스/가수  72700000  29979900000  1428\n",
       "3   4             SMTOWN  음악/댄스/가수  32100000  27856680000  4227\n",
       "4   5  JYP Entertainment  음악/댄스/가수  27800000  20510660000  1833"
      ]
     },
     "execution_count": 41,
     "metadata": {},
     "output_type": "execute_result"
    }
   ],
   "source": [
    "df.to_csv('data/유튜브랭킹_20230919.csv', index=False)\n",
    "pd.read_csv('data/유튜브랭킹_20230919.csv').head()"
   ]
  },
  {
   "cell_type": "code",
   "execution_count": null,
   "metadata": {},
   "outputs": [],
   "source": []
  }
 ],
 "metadata": {
  "kernelspec": {
   "display_name": "base",
   "language": "python",
   "name": "python3"
  },
  "language_info": {
   "codemirror_mode": {
    "name": "ipython",
    "version": 3
   },
   "file_extension": ".py",
   "mimetype": "text/x-python",
   "name": "python",
   "nbconvert_exporter": "python",
   "pygments_lexer": "ipython3",
   "version": "3.11.4"
  },
  "orig_nbformat": 4
 },
 "nbformat": 4,
 "nbformat_minor": 2
}
