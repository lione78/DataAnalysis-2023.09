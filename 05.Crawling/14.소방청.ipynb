{
 "cells": [
  {
   "cell_type": "code",
   "execution_count": 12,
   "metadata": {},
   "outputs": [],
   "source": [
    "import time\n",
    "import pandas as pd\n",
    "from bs4 import BeautifulSoup\n",
    "from selenium import webdriver\n",
    "from selenium.webdriver.common.by import By\n",
    "from selenium.webdriver.common.keys import Keys"
   ]
  },
  {
   "cell_type": "code",
   "execution_count": 34,
   "metadata": {},
   "outputs": [],
   "source": [
    "url = 'https://www.nfa.go.kr/nfa/introduce/status/firestationidfo/?searchDistance=10&searchMode=distance&myX=37.5129582&myY=126.9193489&searchKeyword='\n",
    "driver = webdriver.Chrome()\n",
    "driver.get(url)"
   ]
  },
  {
   "cell_type": "code",
   "execution_count": 14,
   "metadata": {},
   "outputs": [],
   "source": [
    "# 검색 입력창에 서울 입력하기\n",
    "driver.find_element(By.ID, 'searchKeyword').send_keys('서울')"
   ]
  },
  {
   "cell_type": "code",
   "execution_count": 15,
   "metadata": {},
   "outputs": [],
   "source": [
    "# 검색 버튼 클릭하기\n",
    "driver.find_element(By.ID, 'fsSearchBtn').click()"
   ]
  },
  {
   "cell_type": "code",
   "execution_count": 16,
   "metadata": {},
   "outputs": [
    {
     "data": {
      "text/plain": [
       "10"
      ]
     },
     "execution_count": 16,
     "metadata": {},
     "output_type": "execute_result"
    }
   ],
   "source": [
    "# 페이지 이동해서 HTML 코드를 BeautifulSoup으로 parsing\n",
    "soup = BeautifulSoup(driver.page_source, 'html.parser')\n",
    "lis = soup.select('.stations-list > li')\n",
    "len(lis)"
   ]
  },
  {
   "cell_type": "code",
   "execution_count": 17,
   "metadata": {},
   "outputs": [
    {
     "data": {
      "text/plain": [
       "('동작소방서', '서울특별시 동작구 여의대방로16길 55(신대방동)', '02-847-1190')"
      ]
     },
     "execution_count": 17,
     "metadata": {},
     "output_type": "execute_result"
    }
   ],
   "source": [
    "# 기관명, 주소, 전화번호\n",
    "li = lis[0]\n",
    "title = li.select_one('.title').get_text().strip()\n",
    "addr = li.find('address').get_text().strip()\n",
    "tel = li.select_one('.tel').get_text().strip()\n",
    "title, addr, tel"
   ]
  },
  {
   "cell_type": "code",
   "execution_count": 18,
   "metadata": {},
   "outputs": [],
   "source": [
    "data = []\n",
    "for li in lis:\n",
    "    title = li.select_one('.title').get_text().strip()\n",
    "    addr = li.find('address').get_text().strip()\n",
    "    tel = li.select_one('.tel').get_text().strip()\n",
    "    data.append({'기관명': title, '주소': addr, '전화번호': tel})"
   ]
  },
  {
   "cell_type": "code",
   "execution_count": 19,
   "metadata": {},
   "outputs": [
    {
     "data": {
      "text/html": [
       "<div>\n",
       "<style scoped>\n",
       "    .dataframe tbody tr th:only-of-type {\n",
       "        vertical-align: middle;\n",
       "    }\n",
       "\n",
       "    .dataframe tbody tr th {\n",
       "        vertical-align: top;\n",
       "    }\n",
       "\n",
       "    .dataframe thead th {\n",
       "        text-align: right;\n",
       "    }\n",
       "</style>\n",
       "<table border=\"1\" class=\"dataframe\">\n",
       "  <thead>\n",
       "    <tr style=\"text-align: right;\">\n",
       "      <th></th>\n",
       "      <th>기관명</th>\n",
       "      <th>주소</th>\n",
       "      <th>전화번호</th>\n",
       "    </tr>\n",
       "  </thead>\n",
       "  <tbody>\n",
       "    <tr>\n",
       "      <th>0</th>\n",
       "      <td>동작소방서</td>\n",
       "      <td>서울특별시 동작구 여의대방로16길 55(신대방동)</td>\n",
       "      <td>02-847-1190</td>\n",
       "    </tr>\n",
       "    <tr>\n",
       "      <th>1</th>\n",
       "      <td>서대문소방서</td>\n",
       "      <td>서울특별시 서대문구 연희로 182(연희동)</td>\n",
       "      <td>02-3144-1190</td>\n",
       "    </tr>\n",
       "    <tr>\n",
       "      <th>2</th>\n",
       "      <td>광진소방서</td>\n",
       "      <td>서울특별시 광진구 광나루로 480(구의동)</td>\n",
       "      <td>02-457-0119</td>\n",
       "    </tr>\n",
       "    <tr>\n",
       "      <th>3</th>\n",
       "      <td>송파소방서</td>\n",
       "      <td>서울특별시 송파구 오금로51길 56(마천동)</td>\n",
       "      <td>02-403-2119</td>\n",
       "    </tr>\n",
       "    <tr>\n",
       "      <th>4</th>\n",
       "      <td>양천소방서</td>\n",
       "      <td>서울특별시 양천구 목동서로 180(목동)</td>\n",
       "      <td>02-2655-1119</td>\n",
       "    </tr>\n",
       "  </tbody>\n",
       "</table>\n",
       "</div>"
      ],
      "text/plain": [
       "      기관명                           주소          전화번호\n",
       "0   동작소방서  서울특별시 동작구 여의대방로16길 55(신대방동)   02-847-1190\n",
       "1  서대문소방서      서울특별시 서대문구 연희로 182(연희동)  02-3144-1190\n",
       "2   광진소방서      서울특별시 광진구 광나루로 480(구의동)   02-457-0119\n",
       "3   송파소방서     서울특별시 송파구 오금로51길 56(마천동)   02-403-2119\n",
       "4   양천소방서       서울특별시 양천구 목동서로 180(목동)  02-2655-1119"
      ]
     },
     "execution_count": 19,
     "metadata": {},
     "output_type": "execute_result"
    }
   ],
   "source": [
    "df = pd.DataFrame(data)\n",
    "df.head()"
   ]
  },
  {
   "cell_type": "markdown",
   "metadata": {},
   "source": [
    "- 두번째 페이지로 이동"
   ]
  },
  {
   "cell_type": "code",
   "execution_count": 20,
   "metadata": {},
   "outputs": [],
   "source": [
    "# //*[@id=\"listForm\"]/div/section/ul/li[1]/div/div/ul/li[4]/a       우클릭 > copy > copy XPATH\n",
    "driver.find_element(By.XPATH, '//*[@id=\"listForm\"]/div/section/ul/li[1]/div/div/ul/li[4]/a').click()"
   ]
  },
  {
   "cell_type": "markdown",
   "metadata": {},
   "source": [
    "- next(>) 페이지로 이동"
   ]
  },
  {
   "cell_type": "code",
   "execution_count": 21,
   "metadata": {},
   "outputs": [],
   "source": [
    "driver.find_element(By.CSS_SELECTOR, '.next_page').click()\n",
    "# driver.find_element(By.CLASS_NAME, 'next_page')"
   ]
  },
  {
   "cell_type": "markdown",
   "metadata": {},
   "source": [
    "- 모든 페이지에 대해서 적용"
   ]
  },
  {
   "cell_type": "code",
   "execution_count": 35,
   "metadata": {},
   "outputs": [],
   "source": [
    "# 첫번째 페이지로 이동\n",
    "driver.get(url)\n",
    "time.sleep(1)\n",
    "driver.find_element(By.ID, 'searchKeyword').send_keys('서울')\n",
    "driver.find_element(By.ID, 'fsSearchBtn').click()"
   ]
  },
  {
   "cell_type": "code",
   "execution_count": 36,
   "metadata": {},
   "outputs": [
    {
     "data": {
      "text/plain": [
       "100"
      ]
     },
     "execution_count": 36,
     "metadata": {},
     "output_type": "execute_result"
    }
   ],
   "source": [
    "# 검색결과 건수 확인\n",
    "count = driver.find_element(By.XPATH, '//*[@id=\"listForm\"]/div/section/div/p/strong[2]').text\n",
    "count = int(count[:-1])\n",
    "count"
   ]
  },
  {
   "cell_type": "code",
   "execution_count": 37,
   "metadata": {},
   "outputs": [
    {
     "data": {
      "text/plain": [
       "10"
      ]
     },
     "execution_count": 37,
     "metadata": {},
     "output_type": "execute_result"
    }
   ],
   "source": [
    "import math\n",
    "total_pages = math.ceil(count/10)\n",
    "total_pages"
   ]
  },
  {
   "cell_type": "code",
   "execution_count": 38,
   "metadata": {},
   "outputs": [],
   "source": [
    "from tqdm import tqdm"
   ]
  },
  {
   "cell_type": "code",
   "execution_count": 39,
   "metadata": {},
   "outputs": [
    {
     "name": "stderr",
     "output_type": "stream",
     "text": [
      "100%|██████████| 10/10 [00:11<00:00,  1.10s/it]\n"
     ]
    }
   ],
   "source": [
    "data = []\n",
    "for i in tqdm(range(total_pages)):\n",
    "    if i % 2 == 1:\n",
    "        driver.find_element(By.XPATH, '//*[@id=\"listForm\"]/div/section/ul/li[1]/div/div/ul/li[4]/a').click()\n",
    "        time.sleep(1)\n",
    "    if i > 0 and i % 2 == 0:\n",
    "        driver.find_element(By.CSS_SELECTOR, '.next_page').click()\n",
    "        time.sleep(1)\n",
    "\n",
    "    soup = BeautifulSoup(driver.page_source, 'html.parser')\n",
    "    lis = soup.select('.stations-list > li')\n",
    "\n",
    "    for li in lis:\n",
    "        title = li.select_one('.title').get_text().strip()\n",
    "        addr = li.find('address').get_text().strip()\n",
    "        tel = li.select_one('.tel').get_text().strip()\n",
    "        data.append({'기관명': title, '주소': addr, '전화번호': tel})\n",
    "        \n",
    "driver.close()"
   ]
  },
  {
   "cell_type": "code",
   "execution_count": 40,
   "metadata": {},
   "outputs": [
    {
     "data": {
      "text/html": [
       "<div>\n",
       "<style scoped>\n",
       "    .dataframe tbody tr th:only-of-type {\n",
       "        vertical-align: middle;\n",
       "    }\n",
       "\n",
       "    .dataframe tbody tr th {\n",
       "        vertical-align: top;\n",
       "    }\n",
       "\n",
       "    .dataframe thead th {\n",
       "        text-align: right;\n",
       "    }\n",
       "</style>\n",
       "<table border=\"1\" class=\"dataframe\">\n",
       "  <thead>\n",
       "    <tr style=\"text-align: right;\">\n",
       "      <th></th>\n",
       "      <th>기관명</th>\n",
       "      <th>주소</th>\n",
       "      <th>전화번호</th>\n",
       "    </tr>\n",
       "  </thead>\n",
       "  <tbody>\n",
       "    <tr>\n",
       "      <th>80</th>\n",
       "      <td>종로소방서-종로-119 안전센터</td>\n",
       "      <td>서울특별시 종로구 돈화문로 30 (묘동)</td>\n",
       "      <td>02-764-0119</td>\n",
       "    </tr>\n",
       "    <tr>\n",
       "      <th>81</th>\n",
       "      <td>종로소방서-신교-119 안전센터</td>\n",
       "      <td>서울특별시 종로구 자하문로 93 (신교동)</td>\n",
       "      <td>02-736-0119</td>\n",
       "    </tr>\n",
       "    <tr>\n",
       "      <th>82</th>\n",
       "      <td>종로소방서-세종로-119 안전센터</td>\n",
       "      <td>서울특별시 종로구 종로1길 28 (수송동)</td>\n",
       "      <td>02-734-0119</td>\n",
       "    </tr>\n",
       "    <tr>\n",
       "      <th>83</th>\n",
       "      <td>강북소방서_서울-삼각산-119 안전센터</td>\n",
       "      <td>서울특별시 강북구 솔샘로 208 (미아동)</td>\n",
       "      <td>02-983-5119</td>\n",
       "    </tr>\n",
       "    <tr>\n",
       "      <th>84</th>\n",
       "      <td>강북소방서_서울-미아-119 안전센터</td>\n",
       "      <td>서울특별시 강북구 도봉로 125 (미아동)</td>\n",
       "      <td>02-983-9111</td>\n",
       "    </tr>\n",
       "    <tr>\n",
       "      <th>85</th>\n",
       "      <td>강북소방서_서울-우이-119 안전센터</td>\n",
       "      <td>서울특별시 강북구 삼각산로 111 (수유동)</td>\n",
       "      <td>02-998-9116</td>\n",
       "    </tr>\n",
       "    <tr>\n",
       "      <th>86</th>\n",
       "      <td>구로소방서-구로_공단-119 안전센터</td>\n",
       "      <td>서울특별시 구로구 디지털로34길 56 (구로동)</td>\n",
       "      <td>02-855-0119</td>\n",
       "    </tr>\n",
       "    <tr>\n",
       "      <th>87</th>\n",
       "      <td>구로소방서-신도림-119 안전센터</td>\n",
       "      <td>서울특별시 구로구 경인로59길 57 (신도림동)</td>\n",
       "      <td>02-2671-8119</td>\n",
       "    </tr>\n",
       "    <tr>\n",
       "      <th>88</th>\n",
       "      <td>구로소방서-구로_시흥-119 안전센터</td>\n",
       "      <td>서울특별시 금천구 시흥대로45길 31 (시흥동)</td>\n",
       "      <td>02-806-1119</td>\n",
       "    </tr>\n",
       "    <tr>\n",
       "      <th>89</th>\n",
       "      <td>구로소방서-독산-119 안전센터</td>\n",
       "      <td>서울특별시 금천구 시흥대로 386 (독산동)</td>\n",
       "      <td>02-869-1119</td>\n",
       "    </tr>\n",
       "    <tr>\n",
       "      <th>90</th>\n",
       "      <td>구로소방서-구로-119 안전센터</td>\n",
       "      <td>서울특별시 구로구 구로동로 175 (구로동)</td>\n",
       "      <td>02-855-1119</td>\n",
       "    </tr>\n",
       "    <tr>\n",
       "      <th>91</th>\n",
       "      <td>구로소방서-고척-119 안전센터</td>\n",
       "      <td>서울특별시 구로구 고척로 195 (고척동)</td>\n",
       "      <td>02-2618-3104</td>\n",
       "    </tr>\n",
       "    <tr>\n",
       "      <th>92</th>\n",
       "      <td>구로소방서-수궁-119 안전센터</td>\n",
       "      <td>서울특별시 구로구 오리로 1285 (궁동)</td>\n",
       "      <td>02-2685-6119</td>\n",
       "    </tr>\n",
       "    <tr>\n",
       "      <th>93</th>\n",
       "      <td>구로소방서-고일-119 안전센터</td>\n",
       "      <td>서울특별시 구로구 경인로 408 (고척동)</td>\n",
       "      <td>02-2619-0119</td>\n",
       "    </tr>\n",
       "    <tr>\n",
       "      <th>94</th>\n",
       "      <td>송파소방서-가락-119 안전센터</td>\n",
       "      <td>서울특별시 송파구 양재대로 932 (가락동)</td>\n",
       "      <td>02-409-0045</td>\n",
       "    </tr>\n",
       "    <tr>\n",
       "      <th>95</th>\n",
       "      <td>송파소방서-운동장-119 안전센터</td>\n",
       "      <td>서울특별시 송파구 올림픽로 25 (잠실동)</td>\n",
       "      <td>02-2203-2380</td>\n",
       "    </tr>\n",
       "    <tr>\n",
       "      <th>96</th>\n",
       "      <td>송파소방서-잠실-119 안전센터</td>\n",
       "      <td>서울특별시 송파구 석촌호수로 151 (잠실동)</td>\n",
       "      <td>02-422-0119</td>\n",
       "    </tr>\n",
       "    <tr>\n",
       "      <th>97</th>\n",
       "      <td>송파소방서-방이-119 안전센터</td>\n",
       "      <td>서울특별시 송파구 강동대로 286 (방이동)</td>\n",
       "      <td>02-409-0059</td>\n",
       "    </tr>\n",
       "    <tr>\n",
       "      <th>98</th>\n",
       "      <td>송파소방서-거여-119 안전센터</td>\n",
       "      <td>서울특별시 송파구 마천로 329 (마천동)</td>\n",
       "      <td>02-400-0119</td>\n",
       "    </tr>\n",
       "    <tr>\n",
       "      <th>99</th>\n",
       "      <td>송파소방서-마천-119 안전센터</td>\n",
       "      <td>서울특별시 송파구 오금로51길 56 (마천동)</td>\n",
       "      <td>02-3401-2119</td>\n",
       "    </tr>\n",
       "  </tbody>\n",
       "</table>\n",
       "</div>"
      ],
      "text/plain": [
       "                      기관명                          주소          전화번호\n",
       "80      종로소방서-종로-119 안전센터      서울특별시 종로구 돈화문로 30 (묘동)   02-764-0119\n",
       "81      종로소방서-신교-119 안전센터     서울특별시 종로구 자하문로 93 (신교동)   02-736-0119\n",
       "82     종로소방서-세종로-119 안전센터     서울특별시 종로구 종로1길 28 (수송동)   02-734-0119\n",
       "83  강북소방서_서울-삼각산-119 안전센터     서울특별시 강북구 솔샘로 208 (미아동)   02-983-5119\n",
       "84   강북소방서_서울-미아-119 안전센터     서울특별시 강북구 도봉로 125 (미아동)   02-983-9111\n",
       "85   강북소방서_서울-우이-119 안전센터    서울특별시 강북구 삼각산로 111 (수유동)   02-998-9116\n",
       "86   구로소방서-구로_공단-119 안전센터  서울특별시 구로구 디지털로34길 56 (구로동)   02-855-0119\n",
       "87     구로소방서-신도림-119 안전센터  서울특별시 구로구 경인로59길 57 (신도림동)  02-2671-8119\n",
       "88   구로소방서-구로_시흥-119 안전센터  서울특별시 금천구 시흥대로45길 31 (시흥동)   02-806-1119\n",
       "89      구로소방서-독산-119 안전센터    서울특별시 금천구 시흥대로 386 (독산동)   02-869-1119\n",
       "90      구로소방서-구로-119 안전센터    서울특별시 구로구 구로동로 175 (구로동)   02-855-1119\n",
       "91      구로소방서-고척-119 안전센터     서울특별시 구로구 고척로 195 (고척동)  02-2618-3104\n",
       "92      구로소방서-수궁-119 안전센터     서울특별시 구로구 오리로 1285 (궁동)  02-2685-6119\n",
       "93      구로소방서-고일-119 안전센터     서울특별시 구로구 경인로 408 (고척동)  02-2619-0119\n",
       "94      송파소방서-가락-119 안전센터    서울특별시 송파구 양재대로 932 (가락동)   02-409-0045\n",
       "95     송파소방서-운동장-119 안전센터     서울특별시 송파구 올림픽로 25 (잠실동)  02-2203-2380\n",
       "96      송파소방서-잠실-119 안전센터   서울특별시 송파구 석촌호수로 151 (잠실동)   02-422-0119\n",
       "97      송파소방서-방이-119 안전센터    서울특별시 송파구 강동대로 286 (방이동)   02-409-0059\n",
       "98      송파소방서-거여-119 안전센터     서울특별시 송파구 마천로 329 (마천동)   02-400-0119\n",
       "99      송파소방서-마천-119 안전센터   서울특별시 송파구 오금로51길 56 (마천동)  02-3401-2119"
      ]
     },
     "execution_count": 40,
     "metadata": {},
     "output_type": "execute_result"
    }
   ],
   "source": [
    "df = pd.DataFrame(data)\n",
    "df.tail(20)"
   ]
  },
  {
   "cell_type": "code",
   "execution_count": null,
   "metadata": {},
   "outputs": [],
   "source": []
  }
 ],
 "metadata": {
  "kernelspec": {
   "display_name": "base",
   "language": "python",
   "name": "python3"
  },
  "language_info": {
   "codemirror_mode": {
    "name": "ipython",
    "version": 3
   },
   "file_extension": ".py",
   "mimetype": "text/x-python",
   "name": "python",
   "nbconvert_exporter": "python",
   "pygments_lexer": "ipython3",
   "version": "3.11.4"
  },
  "orig_nbformat": 4
 },
 "nbformat": 4,
 "nbformat_minor": 2
}
